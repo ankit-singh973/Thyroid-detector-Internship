{
 "cells": [
  {
   "cell_type": "code",
   "execution_count": 1,
   "id": "4b7a3454-c1b5-44f2-ad9a-928b7281b442",
   "metadata": {},
   "outputs": [],
   "source": [
    "import pandas as pd\n",
    "import numpy as np\n",
    "from sklearn.preprocessing import StandardScaler, LabelEncoder\n",
    "from sklearn.metrics import accuracy_score,confusion_matrix,classification_report, precision_score, recall_score, f1_score, roc_auc_score, roc_curve\n",
    "from sklearn.model_selection import train_test_split\n",
    "import seaborn as sns\n",
    "import plotly.express as px\n",
    "import warnings\n",
    "warnings.filterwarnings(\"ignore\")\n",
    "import matplotlib.pyplot as plt\n",
    "%matplotlib inline\n",
    "import pickle\n",
    "\n",
    "# Importing useful libraries\n",
    "from sklearn.ensemble import RandomForestClassifier, ExtraTreesClassifier\n",
    "from sklearn.tree import DecisionTreeClassifier\n",
    "from sklearn.model_selection import GridSearchCV\n",
    "from sklearn.metrics  import roc_auc_score,accuracy_score\n",
    "from sklearn.neighbors import KNeighborsClassifier\n",
    "from xgboost import XGBClassifier\n",
    "from sklearn.svm import SVC\n",
    "import xgboost as xgb"
   ]
  },
  {
   "cell_type": "code",
   "execution_count": 2,
   "id": "8705c7b2-929b-4875-a7e3-6ab909b4f7a6",
   "metadata": {},
   "outputs": [
    {
     "data": {
      "text/html": [
       "<div>\n",
       "<style scoped>\n",
       "    .dataframe tbody tr th:only-of-type {\n",
       "        vertical-align: middle;\n",
       "    }\n",
       "\n",
       "    .dataframe tbody tr th {\n",
       "        vertical-align: top;\n",
       "    }\n",
       "\n",
       "    .dataframe thead th {\n",
       "        text-align: right;\n",
       "    }\n",
       "</style>\n",
       "<table border=\"1\" class=\"dataframe\">\n",
       "  <thead>\n",
       "    <tr style=\"text-align: right;\">\n",
       "      <th></th>\n",
       "      <th>age</th>\n",
       "      <th>sex</th>\n",
       "      <th>on_thyroxine</th>\n",
       "      <th>query_on_thyroxine</th>\n",
       "      <th>on_antithyroid_medication</th>\n",
       "      <th>sick</th>\n",
       "      <th>pregnant</th>\n",
       "      <th>thyroid_surgery</th>\n",
       "      <th>I131_treatment</th>\n",
       "      <th>query_hypothyroid</th>\n",
       "      <th>...</th>\n",
       "      <th>lithium</th>\n",
       "      <th>goitre</th>\n",
       "      <th>tumor</th>\n",
       "      <th>hypopituitary</th>\n",
       "      <th>psych</th>\n",
       "      <th>T3</th>\n",
       "      <th>TT4</th>\n",
       "      <th>T4U</th>\n",
       "      <th>FTI</th>\n",
       "      <th>Class</th>\n",
       "    </tr>\n",
       "  </thead>\n",
       "  <tbody>\n",
       "    <tr>\n",
       "      <th>0</th>\n",
       "      <td>42.0</td>\n",
       "      <td>0.0</td>\n",
       "      <td>0.0</td>\n",
       "      <td>0.0</td>\n",
       "      <td>0.0</td>\n",
       "      <td>0.0</td>\n",
       "      <td>0.0</td>\n",
       "      <td>0.0</td>\n",
       "      <td>0.0</td>\n",
       "      <td>0.0</td>\n",
       "      <td>...</td>\n",
       "      <td>0.0</td>\n",
       "      <td>0.0</td>\n",
       "      <td>0.0</td>\n",
       "      <td>0.0</td>\n",
       "      <td>0.0</td>\n",
       "      <td>3.0</td>\n",
       "      <td>126.0</td>\n",
       "      <td>2.0</td>\n",
       "      <td>110.0</td>\n",
       "      <td>1</td>\n",
       "    </tr>\n",
       "    <tr>\n",
       "      <th>1</th>\n",
       "      <td>24.0</td>\n",
       "      <td>0.0</td>\n",
       "      <td>0.0</td>\n",
       "      <td>0.0</td>\n",
       "      <td>0.0</td>\n",
       "      <td>0.0</td>\n",
       "      <td>0.0</td>\n",
       "      <td>0.0</td>\n",
       "      <td>0.0</td>\n",
       "      <td>0.0</td>\n",
       "      <td>...</td>\n",
       "      <td>0.0</td>\n",
       "      <td>0.0</td>\n",
       "      <td>0.0</td>\n",
       "      <td>0.0</td>\n",
       "      <td>0.0</td>\n",
       "      <td>3.0</td>\n",
       "      <td>103.0</td>\n",
       "      <td>2.0</td>\n",
       "      <td>109.0</td>\n",
       "      <td>1</td>\n",
       "    </tr>\n",
       "    <tr>\n",
       "      <th>2</th>\n",
       "      <td>47.0</td>\n",
       "      <td>1.0</td>\n",
       "      <td>0.0</td>\n",
       "      <td>0.0</td>\n",
       "      <td>0.0</td>\n",
       "      <td>0.0</td>\n",
       "      <td>0.0</td>\n",
       "      <td>0.0</td>\n",
       "      <td>0.0</td>\n",
       "      <td>0.0</td>\n",
       "      <td>...</td>\n",
       "      <td>0.0</td>\n",
       "      <td>0.0</td>\n",
       "      <td>0.0</td>\n",
       "      <td>0.0</td>\n",
       "      <td>0.0</td>\n",
       "      <td>3.0</td>\n",
       "      <td>110.0</td>\n",
       "      <td>2.0</td>\n",
       "      <td>121.0</td>\n",
       "      <td>1</td>\n",
       "    </tr>\n",
       "    <tr>\n",
       "      <th>3</th>\n",
       "      <td>71.0</td>\n",
       "      <td>0.0</td>\n",
       "      <td>1.0</td>\n",
       "      <td>0.0</td>\n",
       "      <td>0.0</td>\n",
       "      <td>0.0</td>\n",
       "      <td>0.0</td>\n",
       "      <td>0.0</td>\n",
       "      <td>0.0</td>\n",
       "      <td>0.0</td>\n",
       "      <td>...</td>\n",
       "      <td>0.0</td>\n",
       "      <td>0.0</td>\n",
       "      <td>0.0</td>\n",
       "      <td>0.0</td>\n",
       "      <td>0.0</td>\n",
       "      <td>3.0</td>\n",
       "      <td>176.0</td>\n",
       "      <td>2.0</td>\n",
       "      <td>178.0</td>\n",
       "      <td>1</td>\n",
       "    </tr>\n",
       "    <tr>\n",
       "      <th>4</th>\n",
       "      <td>71.0</td>\n",
       "      <td>0.0</td>\n",
       "      <td>0.0</td>\n",
       "      <td>0.0</td>\n",
       "      <td>0.0</td>\n",
       "      <td>0.0</td>\n",
       "      <td>0.0</td>\n",
       "      <td>0.0</td>\n",
       "      <td>0.0</td>\n",
       "      <td>0.0</td>\n",
       "      <td>...</td>\n",
       "      <td>0.0</td>\n",
       "      <td>0.0</td>\n",
       "      <td>0.0</td>\n",
       "      <td>0.0</td>\n",
       "      <td>0.0</td>\n",
       "      <td>2.0</td>\n",
       "      <td>62.0</td>\n",
       "      <td>2.0</td>\n",
       "      <td>71.0</td>\n",
       "      <td>1</td>\n",
       "    </tr>\n",
       "    <tr>\n",
       "      <th>...</th>\n",
       "      <td>...</td>\n",
       "      <td>...</td>\n",
       "      <td>...</td>\n",
       "      <td>...</td>\n",
       "      <td>...</td>\n",
       "      <td>...</td>\n",
       "      <td>...</td>\n",
       "      <td>...</td>\n",
       "      <td>...</td>\n",
       "      <td>...</td>\n",
       "      <td>...</td>\n",
       "      <td>...</td>\n",
       "      <td>...</td>\n",
       "      <td>...</td>\n",
       "      <td>...</td>\n",
       "      <td>...</td>\n",
       "      <td>...</td>\n",
       "      <td>...</td>\n",
       "      <td>...</td>\n",
       "      <td>...</td>\n",
       "      <td>...</td>\n",
       "    </tr>\n",
       "    <tr>\n",
       "      <th>13915</th>\n",
       "      <td>42.0</td>\n",
       "      <td>1.0</td>\n",
       "      <td>0.0</td>\n",
       "      <td>0.0</td>\n",
       "      <td>0.0</td>\n",
       "      <td>0.0</td>\n",
       "      <td>0.0</td>\n",
       "      <td>0.0</td>\n",
       "      <td>0.0</td>\n",
       "      <td>1.0</td>\n",
       "      <td>...</td>\n",
       "      <td>0.0</td>\n",
       "      <td>0.0</td>\n",
       "      <td>0.0</td>\n",
       "      <td>0.0</td>\n",
       "      <td>0.0</td>\n",
       "      <td>3.0</td>\n",
       "      <td>23.0</td>\n",
       "      <td>2.0</td>\n",
       "      <td>58.0</td>\n",
       "      <td>3</td>\n",
       "    </tr>\n",
       "    <tr>\n",
       "      <th>13916</th>\n",
       "      <td>42.0</td>\n",
       "      <td>1.0</td>\n",
       "      <td>0.0</td>\n",
       "      <td>0.0</td>\n",
       "      <td>0.0</td>\n",
       "      <td>0.0</td>\n",
       "      <td>0.0</td>\n",
       "      <td>0.0</td>\n",
       "      <td>0.0</td>\n",
       "      <td>1.0</td>\n",
       "      <td>...</td>\n",
       "      <td>0.0</td>\n",
       "      <td>0.0</td>\n",
       "      <td>0.0</td>\n",
       "      <td>0.0</td>\n",
       "      <td>0.0</td>\n",
       "      <td>3.0</td>\n",
       "      <td>23.0</td>\n",
       "      <td>2.0</td>\n",
       "      <td>58.0</td>\n",
       "      <td>3</td>\n",
       "    </tr>\n",
       "    <tr>\n",
       "      <th>13917</th>\n",
       "      <td>47.0</td>\n",
       "      <td>0.0</td>\n",
       "      <td>0.0</td>\n",
       "      <td>0.0</td>\n",
       "      <td>0.0</td>\n",
       "      <td>0.0</td>\n",
       "      <td>0.0</td>\n",
       "      <td>0.0</td>\n",
       "      <td>0.0</td>\n",
       "      <td>0.0</td>\n",
       "      <td>...</td>\n",
       "      <td>0.0</td>\n",
       "      <td>0.0</td>\n",
       "      <td>0.0</td>\n",
       "      <td>0.0</td>\n",
       "      <td>0.0</td>\n",
       "      <td>2.0</td>\n",
       "      <td>49.0</td>\n",
       "      <td>2.0</td>\n",
       "      <td>55.0</td>\n",
       "      <td>3</td>\n",
       "    </tr>\n",
       "    <tr>\n",
       "      <th>13918</th>\n",
       "      <td>47.0</td>\n",
       "      <td>0.0</td>\n",
       "      <td>0.0</td>\n",
       "      <td>0.0</td>\n",
       "      <td>0.0</td>\n",
       "      <td>0.0</td>\n",
       "      <td>0.0</td>\n",
       "      <td>0.0</td>\n",
       "      <td>0.0</td>\n",
       "      <td>0.0</td>\n",
       "      <td>...</td>\n",
       "      <td>0.0</td>\n",
       "      <td>0.0</td>\n",
       "      <td>0.0</td>\n",
       "      <td>0.0</td>\n",
       "      <td>0.0</td>\n",
       "      <td>2.0</td>\n",
       "      <td>49.0</td>\n",
       "      <td>2.0</td>\n",
       "      <td>55.0</td>\n",
       "      <td>3</td>\n",
       "    </tr>\n",
       "    <tr>\n",
       "      <th>13919</th>\n",
       "      <td>47.0</td>\n",
       "      <td>0.0</td>\n",
       "      <td>0.0</td>\n",
       "      <td>0.0</td>\n",
       "      <td>0.0</td>\n",
       "      <td>0.0</td>\n",
       "      <td>0.0</td>\n",
       "      <td>0.0</td>\n",
       "      <td>0.0</td>\n",
       "      <td>0.0</td>\n",
       "      <td>...</td>\n",
       "      <td>0.0</td>\n",
       "      <td>0.0</td>\n",
       "      <td>0.0</td>\n",
       "      <td>0.0</td>\n",
       "      <td>0.0</td>\n",
       "      <td>2.0</td>\n",
       "      <td>49.0</td>\n",
       "      <td>2.0</td>\n",
       "      <td>55.0</td>\n",
       "      <td>3</td>\n",
       "    </tr>\n",
       "  </tbody>\n",
       "</table>\n",
       "<p>13920 rows × 21 columns</p>\n",
       "</div>"
      ],
      "text/plain": [
       "        age  sex  on_thyroxine  query_on_thyroxine  on_antithyroid_medication  \\\n",
       "0      42.0  0.0           0.0                 0.0                        0.0   \n",
       "1      24.0  0.0           0.0                 0.0                        0.0   \n",
       "2      47.0  1.0           0.0                 0.0                        0.0   \n",
       "3      71.0  0.0           1.0                 0.0                        0.0   \n",
       "4      71.0  0.0           0.0                 0.0                        0.0   \n",
       "...     ...  ...           ...                 ...                        ...   \n",
       "13915  42.0  1.0           0.0                 0.0                        0.0   \n",
       "13916  42.0  1.0           0.0                 0.0                        0.0   \n",
       "13917  47.0  0.0           0.0                 0.0                        0.0   \n",
       "13918  47.0  0.0           0.0                 0.0                        0.0   \n",
       "13919  47.0  0.0           0.0                 0.0                        0.0   \n",
       "\n",
       "       sick  pregnant  thyroid_surgery  I131_treatment  query_hypothyroid  \\\n",
       "0       0.0       0.0              0.0             0.0                0.0   \n",
       "1       0.0       0.0              0.0             0.0                0.0   \n",
       "2       0.0       0.0              0.0             0.0                0.0   \n",
       "3       0.0       0.0              0.0             0.0                0.0   \n",
       "4       0.0       0.0              0.0             0.0                0.0   \n",
       "...     ...       ...              ...             ...                ...   \n",
       "13915   0.0       0.0              0.0             0.0                1.0   \n",
       "13916   0.0       0.0              0.0             0.0                1.0   \n",
       "13917   0.0       0.0              0.0             0.0                0.0   \n",
       "13918   0.0       0.0              0.0             0.0                0.0   \n",
       "13919   0.0       0.0              0.0             0.0                0.0   \n",
       "\n",
       "       ...  lithium  goitre  tumor  hypopituitary  psych   T3    TT4  T4U  \\\n",
       "0      ...      0.0     0.0    0.0            0.0    0.0  3.0  126.0  2.0   \n",
       "1      ...      0.0     0.0    0.0            0.0    0.0  3.0  103.0  2.0   \n",
       "2      ...      0.0     0.0    0.0            0.0    0.0  3.0  110.0  2.0   \n",
       "3      ...      0.0     0.0    0.0            0.0    0.0  3.0  176.0  2.0   \n",
       "4      ...      0.0     0.0    0.0            0.0    0.0  2.0   62.0  2.0   \n",
       "...    ...      ...     ...    ...            ...    ...  ...    ...  ...   \n",
       "13915  ...      0.0     0.0    0.0            0.0    0.0  3.0   23.0  2.0   \n",
       "13916  ...      0.0     0.0    0.0            0.0    0.0  3.0   23.0  2.0   \n",
       "13917  ...      0.0     0.0    0.0            0.0    0.0  2.0   49.0  2.0   \n",
       "13918  ...      0.0     0.0    0.0            0.0    0.0  2.0   49.0  2.0   \n",
       "13919  ...      0.0     0.0    0.0            0.0    0.0  2.0   49.0  2.0   \n",
       "\n",
       "         FTI  Class  \n",
       "0      110.0      1  \n",
       "1      109.0      1  \n",
       "2      121.0      1  \n",
       "3      178.0      1  \n",
       "4       71.0      1  \n",
       "...      ...    ...  \n",
       "13915   58.0      3  \n",
       "13916   58.0      3  \n",
       "13917   55.0      3  \n",
       "13918   55.0      3  \n",
       "13919   55.0      3  \n",
       "\n",
       "[13920 rows x 21 columns]"
      ]
     },
     "execution_count": 2,
     "metadata": {},
     "output_type": "execute_result"
    }
   ],
   "source": [
    "df = pd.read_csv(\"final_thyroid_1.csv\")\n",
    "df"
   ]
  },
  {
   "cell_type": "code",
   "execution_count": 3,
   "id": "799563f4-c462-4f6d-b368-0cfc763252f4",
   "metadata": {},
   "outputs": [],
   "source": [
    "x = df.drop(columns=['Class'])"
   ]
  },
  {
   "cell_type": "code",
   "execution_count": 4,
   "id": "99034021-8841-48ac-bb69-64471b711bb5",
   "metadata": {},
   "outputs": [
    {
     "data": {
      "text/html": [
       "<div>\n",
       "<style scoped>\n",
       "    .dataframe tbody tr th:only-of-type {\n",
       "        vertical-align: middle;\n",
       "    }\n",
       "\n",
       "    .dataframe tbody tr th {\n",
       "        vertical-align: top;\n",
       "    }\n",
       "\n",
       "    .dataframe thead th {\n",
       "        text-align: right;\n",
       "    }\n",
       "</style>\n",
       "<table border=\"1\" class=\"dataframe\">\n",
       "  <thead>\n",
       "    <tr style=\"text-align: right;\">\n",
       "      <th></th>\n",
       "      <th>age</th>\n",
       "      <th>sex</th>\n",
       "      <th>on_thyroxine</th>\n",
       "      <th>query_on_thyroxine</th>\n",
       "      <th>on_antithyroid_medication</th>\n",
       "      <th>sick</th>\n",
       "      <th>pregnant</th>\n",
       "      <th>thyroid_surgery</th>\n",
       "      <th>I131_treatment</th>\n",
       "      <th>query_hypothyroid</th>\n",
       "      <th>query_hyperthyroid</th>\n",
       "      <th>lithium</th>\n",
       "      <th>goitre</th>\n",
       "      <th>tumor</th>\n",
       "      <th>hypopituitary</th>\n",
       "      <th>psych</th>\n",
       "      <th>T3</th>\n",
       "      <th>TT4</th>\n",
       "      <th>T4U</th>\n",
       "      <th>FTI</th>\n",
       "    </tr>\n",
       "  </thead>\n",
       "  <tbody>\n",
       "    <tr>\n",
       "      <th>0</th>\n",
       "      <td>42.0</td>\n",
       "      <td>0.0</td>\n",
       "      <td>0.0</td>\n",
       "      <td>0.0</td>\n",
       "      <td>0.0</td>\n",
       "      <td>0.0</td>\n",
       "      <td>0.0</td>\n",
       "      <td>0.0</td>\n",
       "      <td>0.0</td>\n",
       "      <td>0.0</td>\n",
       "      <td>0.0</td>\n",
       "      <td>0.0</td>\n",
       "      <td>0.0</td>\n",
       "      <td>0.0</td>\n",
       "      <td>0.0</td>\n",
       "      <td>0.0</td>\n",
       "      <td>3.0</td>\n",
       "      <td>126.0</td>\n",
       "      <td>2.0</td>\n",
       "      <td>110.0</td>\n",
       "    </tr>\n",
       "    <tr>\n",
       "      <th>1</th>\n",
       "      <td>24.0</td>\n",
       "      <td>0.0</td>\n",
       "      <td>0.0</td>\n",
       "      <td>0.0</td>\n",
       "      <td>0.0</td>\n",
       "      <td>0.0</td>\n",
       "      <td>0.0</td>\n",
       "      <td>0.0</td>\n",
       "      <td>0.0</td>\n",
       "      <td>0.0</td>\n",
       "      <td>0.0</td>\n",
       "      <td>0.0</td>\n",
       "      <td>0.0</td>\n",
       "      <td>0.0</td>\n",
       "      <td>0.0</td>\n",
       "      <td>0.0</td>\n",
       "      <td>3.0</td>\n",
       "      <td>103.0</td>\n",
       "      <td>2.0</td>\n",
       "      <td>109.0</td>\n",
       "    </tr>\n",
       "    <tr>\n",
       "      <th>2</th>\n",
       "      <td>47.0</td>\n",
       "      <td>1.0</td>\n",
       "      <td>0.0</td>\n",
       "      <td>0.0</td>\n",
       "      <td>0.0</td>\n",
       "      <td>0.0</td>\n",
       "      <td>0.0</td>\n",
       "      <td>0.0</td>\n",
       "      <td>0.0</td>\n",
       "      <td>0.0</td>\n",
       "      <td>0.0</td>\n",
       "      <td>0.0</td>\n",
       "      <td>0.0</td>\n",
       "      <td>0.0</td>\n",
       "      <td>0.0</td>\n",
       "      <td>0.0</td>\n",
       "      <td>3.0</td>\n",
       "      <td>110.0</td>\n",
       "      <td>2.0</td>\n",
       "      <td>121.0</td>\n",
       "    </tr>\n",
       "    <tr>\n",
       "      <th>3</th>\n",
       "      <td>71.0</td>\n",
       "      <td>0.0</td>\n",
       "      <td>1.0</td>\n",
       "      <td>0.0</td>\n",
       "      <td>0.0</td>\n",
       "      <td>0.0</td>\n",
       "      <td>0.0</td>\n",
       "      <td>0.0</td>\n",
       "      <td>0.0</td>\n",
       "      <td>0.0</td>\n",
       "      <td>0.0</td>\n",
       "      <td>0.0</td>\n",
       "      <td>0.0</td>\n",
       "      <td>0.0</td>\n",
       "      <td>0.0</td>\n",
       "      <td>0.0</td>\n",
       "      <td>3.0</td>\n",
       "      <td>176.0</td>\n",
       "      <td>2.0</td>\n",
       "      <td>178.0</td>\n",
       "    </tr>\n",
       "    <tr>\n",
       "      <th>4</th>\n",
       "      <td>71.0</td>\n",
       "      <td>0.0</td>\n",
       "      <td>0.0</td>\n",
       "      <td>0.0</td>\n",
       "      <td>0.0</td>\n",
       "      <td>0.0</td>\n",
       "      <td>0.0</td>\n",
       "      <td>0.0</td>\n",
       "      <td>0.0</td>\n",
       "      <td>0.0</td>\n",
       "      <td>0.0</td>\n",
       "      <td>0.0</td>\n",
       "      <td>0.0</td>\n",
       "      <td>0.0</td>\n",
       "      <td>0.0</td>\n",
       "      <td>0.0</td>\n",
       "      <td>2.0</td>\n",
       "      <td>62.0</td>\n",
       "      <td>2.0</td>\n",
       "      <td>71.0</td>\n",
       "    </tr>\n",
       "    <tr>\n",
       "      <th>...</th>\n",
       "      <td>...</td>\n",
       "      <td>...</td>\n",
       "      <td>...</td>\n",
       "      <td>...</td>\n",
       "      <td>...</td>\n",
       "      <td>...</td>\n",
       "      <td>...</td>\n",
       "      <td>...</td>\n",
       "      <td>...</td>\n",
       "      <td>...</td>\n",
       "      <td>...</td>\n",
       "      <td>...</td>\n",
       "      <td>...</td>\n",
       "      <td>...</td>\n",
       "      <td>...</td>\n",
       "      <td>...</td>\n",
       "      <td>...</td>\n",
       "      <td>...</td>\n",
       "      <td>...</td>\n",
       "      <td>...</td>\n",
       "    </tr>\n",
       "    <tr>\n",
       "      <th>13915</th>\n",
       "      <td>42.0</td>\n",
       "      <td>1.0</td>\n",
       "      <td>0.0</td>\n",
       "      <td>0.0</td>\n",
       "      <td>0.0</td>\n",
       "      <td>0.0</td>\n",
       "      <td>0.0</td>\n",
       "      <td>0.0</td>\n",
       "      <td>0.0</td>\n",
       "      <td>1.0</td>\n",
       "      <td>0.0</td>\n",
       "      <td>0.0</td>\n",
       "      <td>0.0</td>\n",
       "      <td>0.0</td>\n",
       "      <td>0.0</td>\n",
       "      <td>0.0</td>\n",
       "      <td>3.0</td>\n",
       "      <td>23.0</td>\n",
       "      <td>2.0</td>\n",
       "      <td>58.0</td>\n",
       "    </tr>\n",
       "    <tr>\n",
       "      <th>13916</th>\n",
       "      <td>42.0</td>\n",
       "      <td>1.0</td>\n",
       "      <td>0.0</td>\n",
       "      <td>0.0</td>\n",
       "      <td>0.0</td>\n",
       "      <td>0.0</td>\n",
       "      <td>0.0</td>\n",
       "      <td>0.0</td>\n",
       "      <td>0.0</td>\n",
       "      <td>1.0</td>\n",
       "      <td>0.0</td>\n",
       "      <td>0.0</td>\n",
       "      <td>0.0</td>\n",
       "      <td>0.0</td>\n",
       "      <td>0.0</td>\n",
       "      <td>0.0</td>\n",
       "      <td>3.0</td>\n",
       "      <td>23.0</td>\n",
       "      <td>2.0</td>\n",
       "      <td>58.0</td>\n",
       "    </tr>\n",
       "    <tr>\n",
       "      <th>13917</th>\n",
       "      <td>47.0</td>\n",
       "      <td>0.0</td>\n",
       "      <td>0.0</td>\n",
       "      <td>0.0</td>\n",
       "      <td>0.0</td>\n",
       "      <td>0.0</td>\n",
       "      <td>0.0</td>\n",
       "      <td>0.0</td>\n",
       "      <td>0.0</td>\n",
       "      <td>0.0</td>\n",
       "      <td>0.0</td>\n",
       "      <td>0.0</td>\n",
       "      <td>0.0</td>\n",
       "      <td>0.0</td>\n",
       "      <td>0.0</td>\n",
       "      <td>0.0</td>\n",
       "      <td>2.0</td>\n",
       "      <td>49.0</td>\n",
       "      <td>2.0</td>\n",
       "      <td>55.0</td>\n",
       "    </tr>\n",
       "    <tr>\n",
       "      <th>13918</th>\n",
       "      <td>47.0</td>\n",
       "      <td>0.0</td>\n",
       "      <td>0.0</td>\n",
       "      <td>0.0</td>\n",
       "      <td>0.0</td>\n",
       "      <td>0.0</td>\n",
       "      <td>0.0</td>\n",
       "      <td>0.0</td>\n",
       "      <td>0.0</td>\n",
       "      <td>0.0</td>\n",
       "      <td>0.0</td>\n",
       "      <td>0.0</td>\n",
       "      <td>0.0</td>\n",
       "      <td>0.0</td>\n",
       "      <td>0.0</td>\n",
       "      <td>0.0</td>\n",
       "      <td>2.0</td>\n",
       "      <td>49.0</td>\n",
       "      <td>2.0</td>\n",
       "      <td>55.0</td>\n",
       "    </tr>\n",
       "    <tr>\n",
       "      <th>13919</th>\n",
       "      <td>47.0</td>\n",
       "      <td>0.0</td>\n",
       "      <td>0.0</td>\n",
       "      <td>0.0</td>\n",
       "      <td>0.0</td>\n",
       "      <td>0.0</td>\n",
       "      <td>0.0</td>\n",
       "      <td>0.0</td>\n",
       "      <td>0.0</td>\n",
       "      <td>0.0</td>\n",
       "      <td>0.0</td>\n",
       "      <td>0.0</td>\n",
       "      <td>0.0</td>\n",
       "      <td>0.0</td>\n",
       "      <td>0.0</td>\n",
       "      <td>0.0</td>\n",
       "      <td>2.0</td>\n",
       "      <td>49.0</td>\n",
       "      <td>2.0</td>\n",
       "      <td>55.0</td>\n",
       "    </tr>\n",
       "  </tbody>\n",
       "</table>\n",
       "<p>13920 rows × 20 columns</p>\n",
       "</div>"
      ],
      "text/plain": [
       "        age  sex  on_thyroxine  query_on_thyroxine  on_antithyroid_medication  \\\n",
       "0      42.0  0.0           0.0                 0.0                        0.0   \n",
       "1      24.0  0.0           0.0                 0.0                        0.0   \n",
       "2      47.0  1.0           0.0                 0.0                        0.0   \n",
       "3      71.0  0.0           1.0                 0.0                        0.0   \n",
       "4      71.0  0.0           0.0                 0.0                        0.0   \n",
       "...     ...  ...           ...                 ...                        ...   \n",
       "13915  42.0  1.0           0.0                 0.0                        0.0   \n",
       "13916  42.0  1.0           0.0                 0.0                        0.0   \n",
       "13917  47.0  0.0           0.0                 0.0                        0.0   \n",
       "13918  47.0  0.0           0.0                 0.0                        0.0   \n",
       "13919  47.0  0.0           0.0                 0.0                        0.0   \n",
       "\n",
       "       sick  pregnant  thyroid_surgery  I131_treatment  query_hypothyroid  \\\n",
       "0       0.0       0.0              0.0             0.0                0.0   \n",
       "1       0.0       0.0              0.0             0.0                0.0   \n",
       "2       0.0       0.0              0.0             0.0                0.0   \n",
       "3       0.0       0.0              0.0             0.0                0.0   \n",
       "4       0.0       0.0              0.0             0.0                0.0   \n",
       "...     ...       ...              ...             ...                ...   \n",
       "13915   0.0       0.0              0.0             0.0                1.0   \n",
       "13916   0.0       0.0              0.0             0.0                1.0   \n",
       "13917   0.0       0.0              0.0             0.0                0.0   \n",
       "13918   0.0       0.0              0.0             0.0                0.0   \n",
       "13919   0.0       0.0              0.0             0.0                0.0   \n",
       "\n",
       "       query_hyperthyroid  lithium  goitre  tumor  hypopituitary  psych   T3  \\\n",
       "0                     0.0      0.0     0.0    0.0            0.0    0.0  3.0   \n",
       "1                     0.0      0.0     0.0    0.0            0.0    0.0  3.0   \n",
       "2                     0.0      0.0     0.0    0.0            0.0    0.0  3.0   \n",
       "3                     0.0      0.0     0.0    0.0            0.0    0.0  3.0   \n",
       "4                     0.0      0.0     0.0    0.0            0.0    0.0  2.0   \n",
       "...                   ...      ...     ...    ...            ...    ...  ...   \n",
       "13915                 0.0      0.0     0.0    0.0            0.0    0.0  3.0   \n",
       "13916                 0.0      0.0     0.0    0.0            0.0    0.0  3.0   \n",
       "13917                 0.0      0.0     0.0    0.0            0.0    0.0  2.0   \n",
       "13918                 0.0      0.0     0.0    0.0            0.0    0.0  2.0   \n",
       "13919                 0.0      0.0     0.0    0.0            0.0    0.0  2.0   \n",
       "\n",
       "         TT4  T4U    FTI  \n",
       "0      126.0  2.0  110.0  \n",
       "1      103.0  2.0  109.0  \n",
       "2      110.0  2.0  121.0  \n",
       "3      176.0  2.0  178.0  \n",
       "4       62.0  2.0   71.0  \n",
       "...      ...  ...    ...  \n",
       "13915   23.0  2.0   58.0  \n",
       "13916   23.0  2.0   58.0  \n",
       "13917   49.0  2.0   55.0  \n",
       "13918   49.0  2.0   55.0  \n",
       "13919   49.0  2.0   55.0  \n",
       "\n",
       "[13920 rows x 20 columns]"
      ]
     },
     "execution_count": 4,
     "metadata": {},
     "output_type": "execute_result"
    }
   ],
   "source": [
    "x"
   ]
  },
  {
   "cell_type": "code",
   "execution_count": 5,
   "id": "b0c13411-73be-4a0e-a528-eff1fb7d13fa",
   "metadata": {},
   "outputs": [],
   "source": [
    "y = df.Class"
   ]
  },
  {
   "cell_type": "code",
   "execution_count": 6,
   "id": "3476b3bb-344c-4949-82ce-7728f8b6a464",
   "metadata": {},
   "outputs": [
    {
     "data": {
      "text/plain": [
       "0        1\n",
       "1        1\n",
       "2        1\n",
       "3        1\n",
       "4        1\n",
       "        ..\n",
       "13915    3\n",
       "13916    3\n",
       "13917    3\n",
       "13918    3\n",
       "13919    3\n",
       "Name: Class, Length: 13920, dtype: int64"
      ]
     },
     "execution_count": 6,
     "metadata": {},
     "output_type": "execute_result"
    }
   ],
   "source": [
    "y"
   ]
  },
  {
   "cell_type": "code",
   "execution_count": 7,
   "id": "dfcd0d31-25d4-41bf-9770-1c412912a758",
   "metadata": {},
   "outputs": [],
   "source": [
    "X_train,X_test,y_train,y_test=train_test_split(x, y, train_size=0.75, random_state = 70)"
   ]
  },
  {
   "cell_type": "markdown",
   "id": "fb2323ee-857b-4c3f-9c03-99ce6a6f950f",
   "metadata": {},
   "source": [
    "## **XGBoost**"
   ]
  },
  {
   "cell_type": "code",
   "execution_count": 11,
   "id": "fe189b48-39ae-4ee9-baf6-7f5aa1793f01",
   "metadata": {},
   "outputs": [],
   "source": [
    "def xgboost(train_x,train_y):\n",
    "\n",
    "     xgb = XGBClassifier()\n",
    "\n",
    "     # initializing with different combination of parameters\n",
    "     param_grid_xgboost = {'tree_method': ['auto'],\n",
    "                  \"n_estimators\": [10, 100, 120],\n",
    "                  'booster' : ['dart', 'gbtree'],\n",
    "#                   \"criterion\": ['gini', 'entropy'],\n",
    "                  \"max_depth\": [2,3],\n",
    "#                   \"max_features\": ['auto', 'log2'],\n",
    "                  # 'objective': ['binary:logistic'],\n",
    "#                   'lambda' : range(1e-4,10),\n",
    "                  'alpha' : (1e-4,1),\n",
    "                  'colsample_bytree' : (.1, .5),\n",
    "                  'subsample' : (.1, 1)\n",
    "\n",
    "\n",
    "\n",
    "             }\n",
    "\n",
    "     # object for Grid Search cv\n",
    "     grid= GridSearchCV(xgb, param_grid_xgboost, n_jobs= -1, verbose=3, cv=5,)\n",
    "\n",
    "     # finding the best parameters\n",
    "     grid.fit(train_x, train_y)\n",
    "\n",
    "     # getting best parameters\n",
    "     booster = grid.best_params_['booster']\n",
    "     tree_method = grid.best_params_['tree_method']\n",
    "     n_estimators = grid.best_params_['n_estimators']\n",
    "#      criterion = grid.best_params_['criterion']\n",
    "     max_depth = grid.best_params_['max_depth']\n",
    "#      max_features = grid.best_params_['max_features']\n",
    "     # objective = grid.best_params_['objective']\n",
    "#      lambda = grid.best_params_['lambda']\n",
    "     alpha = grid.best_params_['alpha']\n",
    "     colsample_bytree = grid.best_params_['colsample_bytree']\n",
    "     subsample = grid.best_params_['colsample_bytree']\n",
    "\n",
    "\n",
    "     # creating a new model with the best parameters\n",
    "     xgb = XGBClassifier(booster=booster, tree_method=tree_method, n_estimators=n_estimators,\n",
    "                                max_depth=max_depth, alpha=alpha,\n",
    "                                colsample_bytree=colsample_bytree, subsample=subsample)\n",
    "\n",
    "     # training the mew model\n",
    "     xgb.fit(train_x, train_y)\n",
    "     print('Best parameters for XGBoost: {}'.format (grid.best_params_))\n",
    "\n",
    "\n",
    "     return xgb"
   ]
  },
  {
   "cell_type": "code",
   "execution_count": 12,
   "id": "28e6facf-1284-4273-8495-a6a5ddd822d6",
   "metadata": {},
   "outputs": [
    {
     "name": "stdout",
     "output_type": "stream",
     "text": [
      "Fitting 5 folds for each of 96 candidates, totalling 480 fits\n",
      "Best parameters for XGBoost: {'alpha': 1, 'booster': 'dart', 'colsample_bytree': 0.5, 'max_depth': 3, 'n_estimators': 120, 'subsample': 1, 'tree_method': 'auto'}\n"
     ]
    }
   ],
   "source": [
    "xgb_classifier = xgboost(X_train,y_train)"
   ]
  },
  {
   "cell_type": "code",
   "execution_count": 13,
   "id": "1ecb8b31-45df-4927-9656-f465f894850b",
   "metadata": {},
   "outputs": [
    {
     "data": {
      "text/plain": [
       "0.9370689655172414"
      ]
     },
     "execution_count": 13,
     "metadata": {},
     "output_type": "execute_result"
    }
   ],
   "source": [
    "xgb_classifier.score(X_test, y_test)"
   ]
  },
  {
   "cell_type": "code",
   "execution_count": 14,
   "id": "980226d0-da88-462d-854c-e0955cc998d6",
   "metadata": {},
   "outputs": [],
   "source": [
    "# Save the model to a file\n",
    "with open('xgb_classifier.pkl', 'wb') as file:\n",
    "    pickle.dump(xgb_classifier, file)"
   ]
  },
  {
   "cell_type": "markdown",
   "id": "b1274d1f-b402-441a-9a02-d42bcaca0012",
   "metadata": {},
   "source": [
    "# **KNN**"
   ]
  },
  {
   "cell_type": "code",
   "execution_count": 15,
   "id": "a316259e-d629-4f7b-b665-d074e099e0f5",
   "metadata": {},
   "outputs": [],
   "source": [
    "def KNN(train_x, train_y):\n",
    "\n",
    "    knn = KNeighborsClassifier()\n",
    "\n",
    "    # Providing different combination of parameters\n",
    "    param_grid_knn = {\n",
    "        'algorithm' : ['ball_tree', 'kd_tree', 'brute'],\n",
    "        'leaf_size' : [10,17,24,28,30,35],\n",
    "        'n_neighbors':[4,5,8,10,11],\n",
    "        'p':[1,2]\n",
    "\n",
    "    }\n",
    "\n",
    "\n",
    "    # Object for Grid Search cv\n",
    "    grid = GridSearchCV(knn, param_grid_knn, n_jobs= -1, cv=10, verbose=3)\n",
    "\n",
    "    # finding the best parameters\n",
    "    grid.fit(train_x, train_y)\n",
    "\n",
    "    # getting best parameters\n",
    "    algorithm =grid.best_params_['algorithm']\n",
    "    leaf_size = grid.best_params_['leaf_size']\n",
    "    n_neighbors = grid.best_params_['n_neighbors']\n",
    "    p  = grid.best_params_['p']\n",
    "\n",
    "    # creating a new model with the best parameters\n",
    "    knn = KNeighborsClassifier(algorithm=algorithm, leaf_size=leaf_size, n_neighbors=n_neighbors, p=p, n_jobs=-1)\n",
    "\n",
    "    # training the mew model\n",
    "    knn.fit(train_x, train_y)\n",
    "    print('Best Parameters for KNN: {}'.format(grid.best_params_))\n",
    "    return knn"
   ]
  },
  {
   "cell_type": "code",
   "execution_count": 16,
   "id": "713f76b6-f717-409d-b39f-b5cdaad87f75",
   "metadata": {},
   "outputs": [
    {
     "name": "stdout",
     "output_type": "stream",
     "text": [
      "Fitting 10 folds for each of 180 candidates, totalling 1800 fits\n",
      "Best Parameters for KNN: {'algorithm': 'kd_tree', 'leaf_size': 24, 'n_neighbors': 4, 'p': 2}\n"
     ]
    }
   ],
   "source": [
    "knn_classifier = KNN(X_train, y_train)"
   ]
  },
  {
   "cell_type": "code",
   "execution_count": 17,
   "id": "8635fe6f-40f2-4755-95e7-e7c3f5b42262",
   "metadata": {},
   "outputs": [
    {
     "data": {
      "text/plain": [
       "0.9508620689655173"
      ]
     },
     "execution_count": 17,
     "metadata": {},
     "output_type": "execute_result"
    }
   ],
   "source": [
    "knn_classifier.score(X_test, y_test)"
   ]
  },
  {
   "cell_type": "code",
   "execution_count": 18,
   "id": "e6f943cf-a21a-4344-919e-0248ecdaa7de",
   "metadata": {},
   "outputs": [],
   "source": [
    "# Save the model to a file\n",
    "with open('knn_classifier.pkl', 'wb') as file:\n",
    "    pickle.dump(knn_classifier, file)"
   ]
  },
  {
   "cell_type": "markdown",
   "id": "5326dab9-56ce-4c3c-9d00-512d92d902ad",
   "metadata": {},
   "source": [
    "# **Random forest**"
   ]
  },
  {
   "cell_type": "code",
   "execution_count": 19,
   "id": "506ed510-bca6-470c-9f90-3ff21a7c34b6",
   "metadata": {},
   "outputs": [],
   "source": [
    "def random_forest(train_x,train_y):\n",
    "\n",
    "    rfc = RandomForestClassifier()\n",
    "\n",
    "    # Providing different combination of parameters\n",
    "    param_grid = {\"n_estimators\": [10, 20, 30,50, 70, 100, 120],\n",
    "                  \"criterion\": ['gini', 'entropy'],\n",
    "                  \"max_depth\": range(2, 4, 1),\n",
    "                  \"max_features\": ['sqrt', 'log2'],\n",
    "                  \"ccp_alpha\" : (1e-4, 10)\n",
    "\n",
    "\n",
    "\n",
    "                 }\n",
    "\n",
    "    # object for GridSearchCV\n",
    "    grid = GridSearchCV(rfc, param_grid=param_grid, n_jobs= -1, verbose=3, cv=10)\n",
    "\n",
    "    #finding the best parameters\n",
    "    grid.fit(train_x, train_y)\n",
    "\n",
    "    #getting best parameters\n",
    "    criterion = grid.best_params_['criterion']\n",
    "    max_depth = grid.best_params_['max_depth']\n",
    "    ccp_alpha = grid.best_params_['ccp_alpha']\n",
    "    max_features = grid.best_params_['max_features']\n",
    "    n_estimators = grid.best_params_['n_estimators']\n",
    "\n",
    "\n",
    "    #create new model with best parameters\n",
    "    rfc = RandomForestClassifier(n_estimators=n_estimators, criterion=criterion,\n",
    "                                      max_depth=max_depth, ccp_alpha=ccp_alpha, max_features=max_features)\n",
    "    # train new model\n",
    "    rfc.fit(train_x, train_y)\n",
    "\n",
    "    print('Best parameters for random forest are: {}'.format(grid.best_params_))\n",
    "\n",
    "    return rfc\n"
   ]
  },
  {
   "cell_type": "code",
   "execution_count": 20,
   "id": "42ce5825-85d7-4f0b-987c-23d2797dc6d0",
   "metadata": {},
   "outputs": [
    {
     "name": "stdout",
     "output_type": "stream",
     "text": [
      "Fitting 10 folds for each of 112 candidates, totalling 1120 fits\n",
      "Best parameters for random forest are: {'ccp_alpha': 0.0001, 'criterion': 'gini', 'max_depth': 3, 'max_features': 'sqrt', 'n_estimators': 120}\n"
     ]
    }
   ],
   "source": [
    "rfc_classifier = random_forest(X_train, y_train)"
   ]
  },
  {
   "cell_type": "code",
   "execution_count": 21,
   "id": "9c72d47a-73a4-4cb8-a2c9-c94738640f42",
   "metadata": {},
   "outputs": [
    {
     "data": {
      "text/plain": [
       "0.825"
      ]
     },
     "execution_count": 21,
     "metadata": {},
     "output_type": "execute_result"
    }
   ],
   "source": [
    "rfc_classifier.score(X_test, y_test)"
   ]
  },
  {
   "cell_type": "code",
   "execution_count": 22,
   "id": "8e74a4fc-fb3e-403a-8d2a-453961e73bdd",
   "metadata": {},
   "outputs": [],
   "source": [
    "# Save the model to a file\n",
    "with open('rfc_classifier.pkl', 'wb') as file:\n",
    "    pickle.dump(rfc_classifier, file)"
   ]
  },
  {
   "cell_type": "markdown",
   "id": "cdd3155f-0313-49df-aadc-40a9c48d7563",
   "metadata": {},
   "source": [
    "# **SVC**"
   ]
  },
  {
   "cell_type": "code",
   "execution_count": 23,
   "id": "ba1d398f-d4ec-4343-9533-a7502e3a5b6e",
   "metadata": {},
   "outputs": [],
   "source": [
    "def support_vector(train_x, train_y):\n",
    "\n",
    "    svc = SVC()\n",
    "\n",
    "    # Providing different combination of parameters\n",
    "    param_grid_svc = {\n",
    "        'C': [0.1, 1, 10, 100], \n",
    "        'gamma': [0.001, 0.01, 0.1, 1], \n",
    "        'kernel': ['linear', 'rbf']\n",
    "    }\n",
    "\n",
    "\n",
    "    # Object for Grid Search cv\n",
    "    grid = GridSearchCV(svc, param_grid_svc, n_jobs= -1, cv=10, verbose=3)\n",
    "\n",
    "    # finding the best parameters\n",
    "    grid.fit(train_x, train_y)\n",
    "\n",
    "    # getting best parameters\n",
    "    C =grid.best_params_['C']\n",
    "    gamma = grid.best_params_['gamma']\n",
    "    kernel = grid.best_params_['kernel']\n",
    "\n",
    "    # creating a new model with the best parameters\n",
    "    svc = SVC(C=C, gamma = gamma, kernel = kernel)\n",
    "\n",
    "    # training the mew model\n",
    "    svc.fit(train_x, train_y)\n",
    "    print('Best Parameters for SVC: {}'.format(grid.best_params_))\n",
    "    return svc\n"
   ]
  },
  {
   "cell_type": "code",
   "execution_count": null,
   "id": "6e86e374-c549-40d6-bcc9-03c10260e56e",
   "metadata": {},
   "outputs": [],
   "source": [
    "svc_classifier = support_vector(X_train, y_train)"
   ]
  },
  {
   "cell_type": "code",
   "execution_count": null,
   "id": "3c26c9a9-d61c-4a3f-8f30-6de202894c87",
   "metadata": {},
   "outputs": [],
   "source": [
    "svc_classifier.score(X_test, y_test)"
   ]
  },
  {
   "cell_type": "code",
   "execution_count": null,
   "id": "645abbaa-3328-4c29-aeec-aa960d29d2bd",
   "metadata": {},
   "outputs": [],
   "source": [
    "# Save the model to a file\n",
    "with open('svc_classifier.pkl', 'wb') as file:\n",
    "    pickle.dump(svc_classifier, file)"
   ]
  },
  {
   "cell_type": "code",
   "execution_count": null,
   "id": "168d6bb8-4d02-44f9-86ec-d18ec248e2b4",
   "metadata": {},
   "outputs": [],
   "source": []
  },
  {
   "cell_type": "code",
   "execution_count": 75,
   "id": "7ef64193-6e60-43df-8009-be0681ef49bd",
   "metadata": {},
   "outputs": [
    {
     "data": {
      "image/svg+xml": [
       "<svg class=\"main-svg\" xmlns=\"http://www.w3.org/2000/svg\" xmlns:xlink=\"http://www.w3.org/1999/xlink\" width=\"800\" height=\"600\" style=\"\" viewBox=\"0 0 800 600\"><rect x=\"0\" y=\"0\" width=\"800\" height=\"600\" style=\"fill: rgb(255, 255, 255); fill-opacity: 1;\"/><defs id=\"defs-773e7e\"><g class=\"clips\"><clipPath id=\"clip773e7exyplot\" class=\"plotclip\"><rect width=\"379.9999999999998\" height=\"420\"/></clipPath><clipPath class=\"axesclip\" id=\"clip773e7ex\"><rect x=\"165.50000000000009\" y=\"0\" width=\"379.9999999999998\" height=\"600\"/></clipPath><clipPath class=\"axesclip\" id=\"clip773e7ey\"><rect x=\"0\" y=\"100\" width=\"800\" height=\"420\"/></clipPath><clipPath class=\"axesclip\" id=\"clip773e7exy\"><rect x=\"165.50000000000009\" y=\"100\" width=\"379.9999999999998\" height=\"420\"/></clipPath></g><g class=\"gradients\"/><g class=\"patterns\"/></defs><g class=\"bglayer\"><rect class=\"bg\" x=\"165.50000000000009\" y=\"100\" width=\"379.9999999999998\" height=\"420\" style=\"fill: rgb(229, 236, 246); fill-opacity: 1; stroke-width: 0;\"/></g><g class=\"layer-below\"><g class=\"imagelayer\"/><g class=\"shapelayer\"/></g><g class=\"cartesianlayer\"><g class=\"subplot xy\"><g class=\"layer-subplot\"><g class=\"shapelayer\"/><g class=\"imagelayer\"/></g><g class=\"minor-gridlayer\"><g class=\"x\"/><g class=\"y\"/></g><g class=\"gridlayer\"><g class=\"x\"><path class=\"xgrid crisp\" transform=\"translate(242.10000000000008,0)\" d=\"M0,100v420\" style=\"stroke: rgb(255, 255, 255); stroke-opacity: 1; stroke-width: 1px;\"/><path class=\"xgrid crisp\" transform=\"translate(317.70000000000005,0)\" d=\"M0,100v420\" style=\"stroke: rgb(255, 255, 255); stroke-opacity: 1; stroke-width: 1px;\"/><path class=\"xgrid crisp\" transform=\"translate(393.30000000000007,0)\" d=\"M0,100v420\" style=\"stroke: rgb(255, 255, 255); stroke-opacity: 1; stroke-width: 1px;\"/><path class=\"xgrid crisp\" transform=\"translate(468.9000000000001,0)\" d=\"M0,100v420\" style=\"stroke: rgb(255, 255, 255); stroke-opacity: 1; stroke-width: 1px;\"/></g><g class=\"y\"><path class=\"ygrid crisp\" transform=\"translate(0,423.4)\" d=\"M165.50000000000009,0h379.9999999999998\" style=\"stroke: rgb(255, 255, 255); stroke-opacity: 1; stroke-width: 1px;\"/><path class=\"ygrid crisp\" transform=\"translate(0,347.8)\" d=\"M165.50000000000009,0h379.9999999999998\" style=\"stroke: rgb(255, 255, 255); stroke-opacity: 1; stroke-width: 1px;\"/><path class=\"ygrid crisp\" transform=\"translate(0,272.2)\" d=\"M165.50000000000009,0h379.9999999999998\" style=\"stroke: rgb(255, 255, 255); stroke-opacity: 1; stroke-width: 1px;\"/><path class=\"ygrid crisp\" transform=\"translate(0,196.6)\" d=\"M165.50000000000009,0h379.9999999999998\" style=\"stroke: rgb(255, 255, 255); stroke-opacity: 1; stroke-width: 1px;\"/><path class=\"ygrid crisp\" transform=\"translate(0,121)\" d=\"M165.50000000000009,0h379.9999999999998\" style=\"stroke: rgb(255, 255, 255); stroke-opacity: 1; stroke-width: 1px;\"/></g></g><g class=\"zerolinelayer\"><path class=\"xzl zl crisp\" transform=\"translate(166.50000000000009,0)\" d=\"M0,100v420\" style=\"stroke: rgb(255, 255, 255); stroke-opacity: 1; stroke-width: 2px;\"/><path class=\"yzl zl crisp\" transform=\"translate(0,499)\" d=\"M165.50000000000009,0h379.9999999999998\" style=\"stroke: rgb(255, 255, 255); stroke-opacity: 1; stroke-width: 2px;\"/></g><path class=\"xlines-below\"/><path class=\"ylines-below\"/><g class=\"overlines-below\"/><g class=\"xaxislayer-below\"/><g class=\"yaxislayer-below\"/><g class=\"overaxes-below\"/><g class=\"plot\" transform=\"translate(165.50000000000009,100)\" clip-path=\"url(#clip773e7exyplot)\"><g class=\"scatterlayer mlayer\"><g class=\"trace scatter trace619b33\" style=\"stroke-miterlimit: 2; opacity: 1;\"><g class=\"fills\"/><g class=\"errorbars\"/><g class=\"lines\"><path class=\"js-line\" d=\"M1,399L1.72,356.45L1.86,356.45L2.58,321.07L3.15,321.07L3.44,317.49L4.01,317.49L4.73,278.52L4.87,278.52L5.59,251.65L5.73,251.65L6.45,232.84L6.59,232.84L7.31,204.63L7.45,204.63L8.17,198.36L8.74,198.36L9.32,185.82L9.75,185.82L10.18,161.63L10.61,161.63L11.04,141.03L11.61,141.03L12.33,128.94L12.47,128.94L13.19,117.29L13.62,117.29L14.05,113.71L14.91,113.71L15.2,101.62L15.77,101.62L16.49,87.28L16.77,87.28L17.49,78.77L17.63,78.77L18.21,75.64L18.64,75.64L18.64,74.3L19.79,74.3L20.5,63.55L21.65,63.55L21.94,63.55L21.94,62.65L22.37,62.65L22.37,60.41L22.94,60.41L22.94,58.17L23.8,55.93L24.23,55.93L24.8,53.25L25.09,53.25L25.81,47.87L25.95,47.87L25.95,45.18L26.96,45.18L27.1,40.71L27.82,40.71L27.82,39.81L29.25,39.81L29.54,33.09L30.25,33.09L30.68,27.72L32.12,27.72L32.12,25.48L33.12,25.48L33.12,24.58L36.56,24.58L36.56,23.69L39.29,23.69L40.72,23.69L40.72,21L379,21\" style=\"vector-effect: none; fill: none; stroke: rgb(99, 110, 250); stroke-opacity: 1; stroke-width: 2px; opacity: 1;\"/></g><g class=\"points\"/><g class=\"text\"/></g><g class=\"trace scatter trace7ace4b\" style=\"stroke-miterlimit: 2; opacity: 1;\"><g class=\"fills\"/><g class=\"errorbars\"/><g class=\"lines\"><path class=\"js-line\" d=\"M1,399L1,141.42L1.88,141.42L2.47,114.66L3.2,114.66L3.2,110.48L4.37,110.48L4.96,106.72L5.26,106.72L5.26,105.88L5.7,105.88L6.28,105.88L6.28,105.46L7.16,105.46L7.46,99.61L8.34,99.61L8.92,97.1L9.8,97.1L10.39,95.01L10.98,95.01L11.57,93.34L12.15,93.34L12.74,87.48L13.18,87.48L13.91,87.48L13.91,84.14L14.21,81.63L14.94,81.63L15.67,78.29L16.41,78.29L16.41,77.87L17.14,77.87L18.02,77.87L18.46,77.87L18.46,74.52L19.49,74.1L19.49,71.18L20.52,70.76L20.52,69.92L21.98,69.5L21.98,68.67L23.74,68.67L23.74,67.83L25.07,67.41L25.07,67L25.36,67L25.36,66.16L27.41,66.16L27.41,64.07L30.93,64.07L30.93,61.98L31.82,61.98L31.82,59.89L32.11,59.89L32.11,58.63L33.14,58.63L33.14,57.38L35.04,56.96L35.04,56.54L36.36,56.54L36.36,55.71L38.27,55.71L38.27,54.87L38.86,54.87L38.86,54.03L40.33,54.03L40.33,53.2L41.35,53.2L41.35,52.36L44.87,51.94L44.87,51.52L47.08,51.11L47.08,50.27L52.65,49.85L52.65,49.43L53.83,49.43L53.83,47.34L55.29,46.92L55.29,46.51L56.03,46.51L56.03,45.67L57.93,45.67L57.93,44L58.82,44L58.82,42.74L59.99,42.74L59.99,41.91L60.43,41.91L60.43,40.65L64.83,40.23L64.83,39.82L68.21,39.4L68.21,38.98L71.43,38.56L71.43,38.14L72.61,37.73L72.61,36.89L75.4,36.47L75.4,36.05L81.41,35.63L81.41,35.22L82.29,35.22L82.29,33.96L84.79,33.54L84.79,33.13L90.51,33.13L90.51,32.29L93.01,32.29L93.01,31.45L97.41,31.45L97.41,30.2L98.58,30.2L98.58,29.36L99.32,29.36L99.32,27.69L102.98,27.27L102.98,26.85L106.8,26.44L106.8,25.18L111.64,24.76L111.64,23.93L122.35,23.93L122.35,23.09L128.52,22.67L128.52,22.25L140.99,21.84L140.99,21.42L379,21\" style=\"vector-effect: none; fill: none; stroke: rgb(239, 85, 59); stroke-opacity: 1; stroke-width: 2px; opacity: 1;\"/></g><g class=\"points\"/><g class=\"text\"/></g><g class=\"trace scatter traced4e039\" style=\"stroke-miterlimit: 2; opacity: 1;\"><g class=\"fills\"/><g class=\"errorbars\"/><g class=\"lines\"><path class=\"js-line\" d=\"M1,399L1.58,21L2.3,21L379,21\" style=\"vector-effect: none; fill: none; stroke: rgb(0, 204, 150); stroke-opacity: 1; stroke-width: 2px; opacity: 1;\"/></g><g class=\"points\"/><g class=\"text\"/></g><g class=\"trace scatter tracef192cd\" style=\"stroke-miterlimit: 2; opacity: 1;\"><g class=\"fills\"/><g class=\"errorbars\"/><g class=\"lines\"><path class=\"js-line\" d=\"M1,399L1,21L1.29,21L2.3,21L379,21\" style=\"vector-effect: none; fill: none; stroke: rgb(171, 99, 250); stroke-opacity: 1; stroke-width: 2px; opacity: 1;\"/></g><g class=\"points\"/><g class=\"text\"/></g></g></g><g class=\"overplot\"/><path class=\"xlines-above crisp\" d=\"M0,0\" style=\"fill: none;\"/><path class=\"ylines-above crisp\" d=\"M0,0\" style=\"fill: none;\"/><g class=\"overlines-above\"/><g class=\"xaxislayer-above\"><g class=\"xtick\"><text text-anchor=\"middle\" x=\"0\" y=\"533\" transform=\"translate(166.50000000000009,0)\" style=\"font-family: 'Open Sans', verdana, arial, sans-serif; font-size: 12px; fill: rgb(42, 63, 95); fill-opacity: 1; white-space: pre; opacity: 1;\">0</text></g><g class=\"xtick\"><text text-anchor=\"middle\" x=\"0\" y=\"533\" style=\"font-family: 'Open Sans', verdana, arial, sans-serif; font-size: 12px; fill: rgb(42, 63, 95); fill-opacity: 1; white-space: pre; opacity: 1;\" transform=\"translate(242.10000000000008,0)\">0.2</text></g><g class=\"xtick\"><text text-anchor=\"middle\" x=\"0\" y=\"533\" style=\"font-family: 'Open Sans', verdana, arial, sans-serif; font-size: 12px; fill: rgb(42, 63, 95); fill-opacity: 1; white-space: pre; opacity: 1;\" transform=\"translate(317.70000000000005,0)\">0.4</text></g><g class=\"xtick\"><text text-anchor=\"middle\" x=\"0\" y=\"533\" style=\"font-family: 'Open Sans', verdana, arial, sans-serif; font-size: 12px; fill: rgb(42, 63, 95); fill-opacity: 1; white-space: pre; opacity: 1;\" transform=\"translate(393.30000000000007,0)\">0.6</text></g><g class=\"xtick\"><text text-anchor=\"middle\" x=\"0\" y=\"533\" style=\"font-family: 'Open Sans', verdana, arial, sans-serif; font-size: 12px; fill: rgb(42, 63, 95); fill-opacity: 1; white-space: pre; opacity: 1;\" transform=\"translate(468.9000000000001,0)\">0.8</text></g><g class=\"xtick\"><text text-anchor=\"middle\" x=\"0\" y=\"533\" style=\"font-family: 'Open Sans', verdana, arial, sans-serif; font-size: 12px; fill: rgb(42, 63, 95); fill-opacity: 1; white-space: pre; opacity: 1;\" transform=\"translate(544.5000000000001,0)\">1</text></g></g><g class=\"yaxislayer-above\"><g class=\"ytick\"><text text-anchor=\"end\" x=\"164.50000000000009\" y=\"4.199999999999999\" transform=\"translate(0,499)\" style=\"font-family: 'Open Sans', verdana, arial, sans-serif; font-size: 12px; fill: rgb(42, 63, 95); fill-opacity: 1; white-space: pre; opacity: 1;\">0</text></g><g class=\"ytick\"><text text-anchor=\"end\" x=\"164.50000000000009\" y=\"4.199999999999999\" style=\"font-family: 'Open Sans', verdana, arial, sans-serif; font-size: 12px; fill: rgb(42, 63, 95); fill-opacity: 1; white-space: pre; opacity: 1;\" transform=\"translate(0,423.4)\">0.2</text></g><g class=\"ytick\"><text text-anchor=\"end\" x=\"164.50000000000009\" y=\"4.199999999999999\" style=\"font-family: 'Open Sans', verdana, arial, sans-serif; font-size: 12px; fill: rgb(42, 63, 95); fill-opacity: 1; white-space: pre; opacity: 1;\" transform=\"translate(0,347.8)\">0.4</text></g><g class=\"ytick\"><text text-anchor=\"end\" x=\"164.50000000000009\" y=\"4.199999999999999\" style=\"font-family: 'Open Sans', verdana, arial, sans-serif; font-size: 12px; fill: rgb(42, 63, 95); fill-opacity: 1; white-space: pre; opacity: 1;\" transform=\"translate(0,272.2)\">0.6</text></g><g class=\"ytick\"><text text-anchor=\"end\" x=\"164.50000000000009\" y=\"4.199999999999999\" style=\"font-family: 'Open Sans', verdana, arial, sans-serif; font-size: 12px; fill: rgb(42, 63, 95); fill-opacity: 1; white-space: pre; opacity: 1;\" transform=\"translate(0,196.6)\">0.8</text></g><g class=\"ytick\"><text text-anchor=\"end\" x=\"164.50000000000009\" y=\"4.199999999999999\" style=\"font-family: 'Open Sans', verdana, arial, sans-serif; font-size: 12px; fill: rgb(42, 63, 95); fill-opacity: 1; white-space: pre; opacity: 1;\" transform=\"translate(0,121)\">1</text></g></g><g class=\"overaxes-above\"/></g></g><g class=\"polarlayer\"/><g class=\"smithlayer\"/><g class=\"ternarylayer\"/><g class=\"geolayer\"/><g class=\"funnelarealayer\"/><g class=\"pielayer\"/><g class=\"iciclelayer\"/><g class=\"treemaplayer\"/><g class=\"sunburstlayer\"/><g class=\"glimages\"/><defs id=\"topdefs-773e7e\"><g class=\"clips\"/><clipPath id=\"legend773e7e\"><rect width=\"146\" height=\"86\" x=\"0\" y=\"0\"/></clipPath></defs><g class=\"layer-above\"><g class=\"imagelayer\"/><g class=\"shapelayer\"><g class=\"shape-group\" data-index=\"0\" clip-path=\"url(#clip773e7exy)\"><path data-index=\"0\" fill-rule=\"evenodd\" d=\"M166.50000000000009,499L544.5000000000001,121\" style=\"opacity: 1; stroke: rgb(42, 63, 95); stroke-opacity: 1; fill: rgb(0, 0, 0); fill-opacity: 0; stroke-dasharray: 9px, 9px; stroke-width: 2px;\"/></g></g></g><g class=\"infolayer\"><g class=\"legend\" pointer-events=\"all\" transform=\"translate(642.02,100)\"><rect class=\"bg\" shape-rendering=\"crispEdges\" style=\"stroke: rgb(68, 68, 68); stroke-opacity: 1; fill: rgb(255, 255, 255); fill-opacity: 1; stroke-width: 0px;\" width=\"146\" height=\"86\" x=\"0\" y=\"0\"/><g class=\"scrollbox\" transform=\"\" clip-path=\"url(#legend773e7e)\"><g class=\"groups\"><g class=\"traces\" transform=\"translate(0,14.5)\" style=\"opacity: 1;\"><text class=\"legendtext\" text-anchor=\"start\" x=\"40\" y=\"4.680000000000001\" style=\"font-family: 'Open Sans', verdana, arial, sans-serif; font-size: 12px; fill: rgb(42, 63, 95); fill-opacity: 1; white-space: pre;\">0 (AUC=0.9761)</text><g class=\"layers\" style=\"opacity: 1;\"><g class=\"legendfill\"/><g class=\"legendlines\"><path class=\"js-line\" d=\"M5,0h30\" style=\"fill: none; stroke: rgb(99, 110, 250); stroke-opacity: 1; stroke-width: 2px;\"/></g><g class=\"legendsymbols\"><g class=\"legendpoints\"/></g></g><rect class=\"legendtoggle\" x=\"0\" y=\"-9.5\" width=\"140.390625\" height=\"19\" style=\"fill: rgb(0, 0, 0); fill-opacity: 0;\"/></g><g class=\"traces\" transform=\"translate(0,33.5)\" style=\"opacity: 1;\"><text class=\"legendtext\" text-anchor=\"start\" x=\"40\" y=\"4.680000000000001\" style=\"font-family: 'Open Sans', verdana, arial, sans-serif; font-size: 12px; fill: rgb(42, 63, 95); fill-opacity: 1; white-space: pre;\">1 (AUC=0.9754)</text><g class=\"layers\" style=\"opacity: 1;\"><g class=\"legendfill\"/><g class=\"legendlines\"><path class=\"js-line\" d=\"M5,0h30\" style=\"fill: none; stroke: rgb(239, 85, 59); stroke-opacity: 1; stroke-width: 2px;\"/></g><g class=\"legendsymbols\"><g class=\"legendpoints\"/></g></g><rect class=\"legendtoggle\" x=\"0\" y=\"-9.5\" width=\"140.390625\" height=\"19\" style=\"fill: rgb(0, 0, 0); fill-opacity: 0;\"/></g><g class=\"traces\" transform=\"translate(0,52.5)\" style=\"opacity: 1;\"><text class=\"legendtext\" text-anchor=\"start\" x=\"40\" y=\"4.680000000000001\" style=\"font-family: 'Open Sans', verdana, arial, sans-serif; font-size: 12px; fill: rgb(42, 63, 95); fill-opacity: 1; white-space: pre;\">2 (AUC=0.9998)</text><g class=\"layers\" style=\"opacity: 1;\"><g class=\"legendfill\"/><g class=\"legendlines\"><path class=\"js-line\" d=\"M5,0h30\" style=\"fill: none; stroke: rgb(0, 204, 150); stroke-opacity: 1; stroke-width: 2px;\"/></g><g class=\"legendsymbols\"><g class=\"legendpoints\"/></g></g><rect class=\"legendtoggle\" x=\"0\" y=\"-9.5\" width=\"140.390625\" height=\"19\" style=\"fill: rgb(0, 0, 0); fill-opacity: 0;\"/></g><g class=\"traces\" transform=\"translate(0,71.5)\" style=\"opacity: 1;\"><text class=\"legendtext\" text-anchor=\"start\" x=\"40\" y=\"4.680000000000001\" style=\"font-family: 'Open Sans', verdana, arial, sans-serif; font-size: 12px; fill: rgb(42, 63, 95); fill-opacity: 1; white-space: pre;\">3 (AUC=1.0000)</text><g class=\"layers\" style=\"opacity: 1;\"><g class=\"legendfill\"/><g class=\"legendlines\"><path class=\"js-line\" d=\"M5,0h30\" style=\"fill: none; stroke: rgb(171, 99, 250); stroke-opacity: 1; stroke-width: 2px;\"/></g><g class=\"legendsymbols\"><g class=\"legendpoints\"/></g></g><rect class=\"legendtoggle\" x=\"0\" y=\"-9.5\" width=\"140.390625\" height=\"19\" style=\"fill: rgb(0, 0, 0); fill-opacity: 0;\"/></g></g></g><rect class=\"scrollbar\" rx=\"20\" ry=\"3\" width=\"0\" height=\"0\" style=\"fill: rgb(128, 139, 164); fill-opacity: 1;\" x=\"0\" y=\"0\"/></g><g class=\"g-gtitle\"/><g class=\"g-xtitle\"><text class=\"xtitle\" x=\"355.5\" y=\"560.3\" text-anchor=\"middle\" style=\"font-family: 'Open Sans', verdana, arial, sans-serif; font-size: 14px; fill: rgb(42, 63, 95); opacity: 1; font-weight: normal; white-space: pre;\">False Positive Rate</text></g><g class=\"g-ytitle\"><text class=\"ytitle\" transform=\"rotate(-90,120.575,310)\" x=\"120.575\" y=\"310\" text-anchor=\"middle\" style=\"font-family: 'Open Sans', verdana, arial, sans-serif; font-size: 14px; fill: rgb(42, 63, 95); opacity: 1; font-weight: normal; white-space: pre;\">True Positive Rate</text></g></g></svg>"
      ]
     },
     "metadata": {},
     "output_type": "display_data"
    }
   ],
   "source": [
    "import plotly.graph_objects as go\n",
    "\n",
    "classes = knn_classifier.classes_\n",
    "roc_auc_ovr = {}\n",
    "# Create an empty figure, and iteratively add new lines\n",
    "# every time we compute a new class\n",
    "fig = go.Figure()\n",
    "fig.add_shape(\n",
    "    type='line', line=dict(dash='dash'),\n",
    "    x0=0, x1=1, y0=0, y1=1\n",
    ")\n",
    "\n",
    "for i in range(len(classes)):\n",
    "    # Gets the class\n",
    "    c = classes[i]\n",
    "    # Prepares an auxiliar dataframe to help with the plots\n",
    "    df_aux = pd.DataFrame(X_test.copy(), columns= ['x', 'y'])\n",
    "    df_aux['Class'] = [1 if y == c else 0 for y in y_test]\n",
    "    df_aux['prob'] = y_proba[:, i]\n",
    "    df_aux = df_aux.reset_index(drop = True)\n",
    "\n",
    "    fpr, tpr, _ = roc_curve(df_aux['Class'], df_aux['prob'])\n",
    "    roc_auc_ovr[c] = auc(fpr, tpr)\n",
    "\n",
    "    name = f\"{c} (AUC={roc_auc_ovr[c]:.4f})\"\n",
    "    fig.add_trace(go.Scatter(x=fpr, y=tpr, name=name, mode='lines'))\n",
    "\n",
    "fig.update_layout(\n",
    "    xaxis_title='False Positive Rate',\n",
    "    yaxis_title='True Positive Rate',\n",
    "    yaxis=dict(scaleanchor=\"x\", scaleratio=1),\n",
    "    xaxis=dict(constrain='domain'),\n",
    "    width=800, height=600,\n",
    "    showlegend=True)\n",
    "fig.show(\"svg\")"
   ]
  },
  {
   "cell_type": "code",
   "execution_count": null,
   "id": "a1da6a8b-b13b-43b1-999a-39dba9d21ff7",
   "metadata": {},
   "outputs": [],
   "source": []
  },
  {
   "cell_type": "code",
   "execution_count": null,
   "id": "dbdb6cdf-c4bb-4da5-b88f-eaf602175616",
   "metadata": {},
   "outputs": [],
   "source": []
  },
  {
   "cell_type": "markdown",
   "id": "25af6f0a-fc1c-4c97-a1de-11d4fa92333a",
   "metadata": {},
   "source": [
    "# **Building model by feature importance**"
   ]
  },
  {
   "cell_type": "markdown",
   "id": "4dbf2f80-b244-4b9b-83d8-577e820777b1",
   "metadata": {},
   "source": [
    "## **ExtraTree classifier**"
   ]
  },
  {
   "cell_type": "code",
   "execution_count": 26,
   "id": "399bedfd-2e8c-4adb-a861-5c0d846c13fa",
   "metadata": {},
   "outputs": [],
   "source": [
    "# Building the model\n",
    "extra_tree_forest = ExtraTreesClassifier(n_estimators = 200,\n",
    "                                        criterion ='entropy', max_features = 2, max_depth= 20)\n",
    "  \n",
    "# Training the model\n",
    "extra_tree_forest.fit(X_train, y_train)\n",
    "  \n",
    "# Computing the importance of each feature\n",
    "feature_importance = extra_tree_forest.feature_importances_\n",
    "  \n",
    "# Normalizing the individual importances\n",
    "feature_importance_normalized = np.std([tree.feature_importances_ for tree in \n",
    "                                        extra_tree_forest.estimators_],\n",
    "                                        axis = 0)"
   ]
  },
  {
   "cell_type": "code",
   "execution_count": 27,
   "id": "105ee872-85fa-46fe-9666-b0e1f6b18366",
   "metadata": {},
   "outputs": [
    {
     "data": {
      "text/plain": [
       "Text(0.5, 1.0, 'Comparison of different Feature Importances')"
      ]
     },
     "execution_count": 27,
     "metadata": {},
     "output_type": "execute_result"
    },
    {
     "data": {
      "image/png": "[encoded data removed]",
      "text/plain": [
       "<Figure size 1200x600 with 1 Axes>"
      ]
     },
     "metadata": {},
     "output_type": "display_data"
    }
   ],
   "source": [
    "pd.Series(feature_importance_normalized, index= X_train.columns).plot.bar(color='green', figsize=(12, 6))\n",
    "plt.xlabel('Feature Labels')\n",
    "plt.ylabel('Feature Importances')\n",
    "plt.title('Comparison of different Feature Importances')"
   ]
  },
  {
   "cell_type": "code",
   "execution_count": 28,
   "id": "184ffbc0-83d7-4455-965b-ad81387e6f9a",
   "metadata": {},
   "outputs": [],
   "source": [
    "X_train = X_train.drop(columns=['query_on_thyroxine',\n",
    "       'on_antithyroid_medication', 'pregnant', 'thyroid_surgery',\n",
    "       'I131_treatment', 'query_hyperthyroid', 'lithium',\n",
    "       'goitre', 'tumor', 'hypopituitary', 'T4U' ])"
   ]
  },
  {
   "cell_type": "code",
   "execution_count": 29,
   "id": "f395e644-6ab3-4861-840a-a9022ffbbeab",
   "metadata": {},
   "outputs": [
    {
     "data": {
      "text/plain": [
       "Index(['age', 'sex', 'on_thyroxine', 'sick', 'query_hypothyroid', 'psych',\n",
       "       'T3', 'TT4', 'FTI'],\n",
       "      dtype='object')"
      ]
     },
     "execution_count": 29,
     "metadata": {},
     "output_type": "execute_result"
    }
   ],
   "source": [
    "X_train.columns"
   ]
  },
  {
   "cell_type": "code",
   "execution_count": 30,
   "id": "8f947b82-6efa-4a8a-a3df-997092779ca7",
   "metadata": {},
   "outputs": [],
   "source": [
    "X_test = X_test.drop(columns=['query_on_thyroxine',\n",
    "       'on_antithyroid_medication', 'pregnant', 'thyroid_surgery',\n",
    "       'I131_treatment', 'query_hyperthyroid', 'lithium',\n",
    "       'goitre', 'tumor', 'hypopituitary', 'T4U' ])"
   ]
  },
  {
   "cell_type": "code",
   "execution_count": 31,
   "id": "206e94c8-7fb3-4de3-8751-6cc879b06367",
   "metadata": {},
   "outputs": [
    {
     "data": {
      "text/plain": [
       "Index(['age', 'sex', 'on_thyroxine', 'sick', 'query_hypothyroid', 'psych',\n",
       "       'T3', 'TT4', 'FTI'],\n",
       "      dtype='object')"
      ]
     },
     "execution_count": 31,
     "metadata": {},
     "output_type": "execute_result"
    }
   ],
   "source": [
    "X_test.columns"
   ]
  },
  {
   "cell_type": "code",
   "execution_count": 37,
   "id": "d6a9c950-a0a7-4b27-b6a0-a40c431a5856",
   "metadata": {},
   "outputs": [],
   "source": [
    "def xgboost(train_x,train_y):\n",
    "\n",
    "     xgb = XGBClassifier()\n",
    "\n",
    "     # initializing with different combination of parameters\n",
    "     param_grid_xgboost = {'tree_method': ['auto'],\n",
    "                  \"n_estimators\": [10, 100, 120],\n",
    "                  'booster' : ['dart', 'gbtree'],\n",
    "#                   \"criterion\": ['gini', 'entropy'],\n",
    "                  \"max_depth\": [2,3],\n",
    "#                   \"max_features\": ['auto', 'log2'],\n",
    "                  # 'objective': ['binary:logistic'],\n",
    "#                   'lambda' : range(1e-4,10),\n",
    "                  'alpha' : (1e-4,1),\n",
    "                  'colsample_bytree' : (.1, .5),\n",
    "                  'subsample' : (.1, 1)\n",
    "\n",
    "\n",
    "\n",
    "             }\n",
    "\n",
    "     # object for Grid Search cv\n",
    "     grid= GridSearchCV(xgb, param_grid_xgboost, n_jobs= -1, verbose=3, cv=5,)\n",
    "\n",
    "     # finding the best parameters\n",
    "     grid.fit(train_x, train_y)\n",
    "\n",
    "     # getting best parameters\n",
    "     booster = grid.best_params_['booster']\n",
    "     tree_method = grid.best_params_['tree_method']\n",
    "     n_estimators = grid.best_params_['n_estimators']\n",
    "#      criterion = grid.best_params_['criterion']\n",
    "     max_depth = grid.best_params_['max_depth']\n",
    "#      max_features = grid.best_params_['max_features']\n",
    "     # objective = grid.best_params_['objective']\n",
    "#      lambda = grid.best_params_['lambda']\n",
    "     alpha = grid.best_params_['alpha']\n",
    "     colsample_bytree = grid.best_params_['colsample_bytree']\n",
    "     subsample = grid.best_params_['colsample_bytree']\n",
    "\n",
    "\n",
    "     # creating a new model with the best parameters\n",
    "     xgb = XGBClassifier(booster=booster, tree_method=tree_method, n_estimators=n_estimators,\n",
    "                                max_depth=max_depth, alpha=alpha,\n",
    "                                colsample_bytree=colsample_bytree, subsample=subsample)\n",
    "\n",
    "     # training the mew model\n",
    "     xgb.fit(train_x, train_y)\n",
    "     print('Best parameters for XGBoost: {}'.format (grid.best_params_))\n",
    "\n",
    "\n",
    "     return xgb"
   ]
  },
  {
   "cell_type": "code",
   "execution_count": 38,
   "id": "b621223c-d8ef-4f7c-a1c2-80debb52f2f7",
   "metadata": {},
   "outputs": [],
   "source": [
    "def random_forest(train_x,train_y):\n",
    "\n",
    "    rfc = RandomForestClassifier()\n",
    "\n",
    "    # Providing different combination of parameters\n",
    "    param_grid = {\"n_estimators\": [10, 20, 30,50, 70, 100, 120],\n",
    "                  \"criterion\": ['gini', 'entropy'],\n",
    "                  \"max_depth\": range(2, 4, 1),\n",
    "                  \"max_features\": ['sqrt', 'log2'],\n",
    "                  \"ccp_alpha\" : (1e-4, 10)\n",
    "\n",
    "\n",
    "\n",
    "                 }\n",
    "\n",
    "    # object for GridSearchCV\n",
    "    grid = GridSearchCV(rfc, param_grid=param_grid, n_jobs= -1, verbose=3, cv=10)\n",
    "\n",
    "    #finding the best parameters\n",
    "    grid.fit(train_x, train_y)\n",
    "\n",
    "    #getting best parameters\n",
    "    criterion = grid.best_params_['criterion']\n",
    "    max_depth = grid.best_params_['max_depth']\n",
    "    ccp_alpha = grid.best_params_['ccp_alpha']\n",
    "    max_features = grid.best_params_['max_features']\n",
    "    n_estimators = grid.best_params_['n_estimators']\n",
    "\n",
    "\n",
    "    #create new model with best parameters\n",
    "    rfc = RandomForestClassifier(n_estimators=n_estimators, criterion=criterion,\n",
    "                                      max_depth=max_depth, ccp_alpha=ccp_alpha, max_features=max_features)\n",
    "    # train new model\n",
    "    rfc.fit(train_x, train_y)\n",
    "\n",
    "    print('Best parameters for random forest are: {}'.format(grid.best_params_))\n",
    "\n",
    "    return rfc\n"
   ]
  },
  {
   "cell_type": "code",
   "execution_count": 39,
   "id": "d6b0891f-772f-43b0-98d1-ec9958b802c8",
   "metadata": {},
   "outputs": [],
   "source": [
    "def KNN(train_x, train_y):\n",
    "\n",
    "    knn = KNeighborsClassifier()\n",
    "\n",
    "    # Providing different combination of parameters\n",
    "    param_grid_knn = {\n",
    "        'algorithm' : ['ball_tree', 'kd_tree', 'brute'],\n",
    "        'leaf_size' : [10,17,24,28,30,35],\n",
    "        'n_neighbors':[4,5,8,10,11],\n",
    "        'p':[1,2]\n",
    "\n",
    "    }\n",
    "\n",
    "\n",
    "    # Object for Grid Search cv\n",
    "    grid = GridSearchCV(knn, param_grid_knn, n_jobs= -1, cv=10, verbose=3)\n",
    "\n",
    "    # finding the best parameters\n",
    "    grid.fit(train_x, train_y)\n",
    "\n",
    "    # getting best parameters\n",
    "    algorithm =grid.best_params_['algorithm']\n",
    "    leaf_size = grid.best_params_['leaf_size']\n",
    "    n_neighbors = grid.best_params_['n_neighbors']\n",
    "    p  = grid.best_params_['p']\n",
    "\n",
    "    # creating a new model with the best parameters\n",
    "    knn = KNeighborsClassifier(algorithm=algorithm, leaf_size=leaf_size, n_neighbors=n_neighbors, p=p, n_jobs=-1)\n",
    "\n",
    "    # training the mew model\n",
    "    knn.fit(train_x, train_y)\n",
    "    print('Best Parameters for KNN: {}'.format(grid.best_params_))\n",
    "    return knn"
   ]
  },
  {
   "cell_type": "code",
   "execution_count": 40,
   "id": "13e939c8-1baf-470f-b4dd-c400561170e2",
   "metadata": {},
   "outputs": [],
   "source": [
    "def best_model(train_x,train_y,test_x,test_y):\n",
    "\n",
    "            knn= KNN(train_x,train_y)\n",
    "            prediction_knn = knn.predict_proba(test_x) # Predictions using the KNN Model\n",
    "\n",
    "            if len(test_y.unique()) == 1: #if there is only one label in y, then roc_auc_score returns error. We will use accuracy in that case\n",
    "                knn_score = accuracy_score(test_y, prediction_knn)\n",
    "                print('Accuracy for knn:' + str(knn_score))  # Log AUC\n",
    "            else:\n",
    "                knn_score = roc_auc_score(test_y, prediction_knn, multi_class='ovr') # AUC for KNN\n",
    "                print('AUC for knn:' + str(knn_score)) # Log AUC\n",
    "\n",
    "            # create best model for Random Forest\n",
    "            r_f= random_forest(train_x,train_y)\n",
    "            prediction_random_forest= r_f.predict_proba(test_x) # prediction using the Random Forest Algorithm\n",
    "\n",
    "            if len(test_y.unique()) == 1:#if there is only one label in y, then roc_auc_score returns error. We will use accuracy in that case\n",
    "                random_forest_score = accuracy_score((test_y),prediction_random_forest)\n",
    "                print('Accuracy for RF:' + str(random_forest_score))\n",
    "            else:\n",
    "                random_forest_score = roc_auc_score((test_y), prediction_random_forest,multi_class='ovr') # AUC for Random Forest\n",
    "                print('AUC for RF:' + str(random_forest_score))\n",
    "                \n",
    "            # Create best model for XGBoost\n",
    "            xgb = xgboost(train_x, train_y)\n",
    "            prediction_xgb = xgb.predict_proba(test_x) #Prediction using XGBoost model\n",
    "            \n",
    "            if len(test_y.unique()) == 1: \n",
    "                xgb_score = accuracy_score(test_y, prediction_xgb)\n",
    "                print('Accuracy for XGBoost:' +str(xgb_score))\n",
    "                \n",
    "            else:\n",
    "                xgb_score = roc_auc_score((test_y), prediction_xgb, multi_class = 'ovr')\n",
    "                print('AUC for xgb: ' +str(xgb_score))\n",
    "\n",
    "\n",
    "            #Finding best model out of random forest, KNN and XGBoost                \n",
    "            if (random_forest_score > knn_score) and (random_forest_score > xgb_score):\n",
    "                return \"RandomForest\", r_f\n",
    "            elif (knn_score >  random_forest_score) and (knn_score > xgb_score):\n",
    "                return \"KNN\", knn\n",
    "            else:\n",
    "                return \"XGBoost\", xgb\n",
    "  \n"
   ]
  },
  {
   "cell_type": "code",
   "execution_count": 41,
   "id": "791288a8-d9d3-4f96-9962-c121efdfc461",
   "metadata": {},
   "outputs": [
    {
     "name": "stdout",
     "output_type": "stream",
     "text": [
      "Fitting 10 folds for each of 180 candidates, totalling 1800 fits\n",
      "Best Parameters for KNN: {'algorithm': 'kd_tree', 'leaf_size': 10, 'n_neighbors': 4, 'p': 2}\n",
      "AUC for knn:0.9853283048851597\n",
      "Fitting 10 folds for each of 112 candidates, totalling 1120 fits\n",
      "Best parameters for random forest are: {'ccp_alpha': 0.0001, 'criterion': 'entropy', 'max_depth': 3, 'max_features': 'sqrt', 'n_estimators': 100}\n",
      "AUC for RF:0.9584521442582655\n",
      "Fitting 5 folds for each of 96 candidates, totalling 480 fits\n",
      "Best parameters for XGBoost: {'alpha': 1, 'booster': 'dart', 'colsample_bytree': 0.5, 'max_depth': 3, 'n_estimators': 120, 'subsample': 1, 'tree_method': 'auto'}\n",
      "AUC for xgb: 0.9878143317521081\n"
     ]
    }
   ],
   "source": [
    "best_model_name, final_model = best_model(X_train,y_train,X_test,y_test)"
   ]
  },
  {
   "cell_type": "code",
   "execution_count": 42,
   "id": "39652779-3c93-45cd-971c-e9bd39072340",
   "metadata": {},
   "outputs": [
    {
     "data": {
      "text/plain": [
       "'XGBoost'"
      ]
     },
     "execution_count": 42,
     "metadata": {},
     "output_type": "execute_result"
    }
   ],
   "source": [
    "best_model_name"
   ]
  },
  {
   "cell_type": "code",
   "execution_count": 43,
   "id": "d5d316be-2537-4f78-8a37-fede168dc43b",
   "metadata": {},
   "outputs": [
    {
     "data": {
      "text/html": [
       "<style>#sk-container-id-1 {color: black;}#sk-container-id-1 pre{padding: 0;}#sk-container-id-1 div.sk-toggleable {background-color: white;}#sk-container-id-1 label.sk-toggleable__label {cursor: pointer;display: block;width: 100%;margin-bottom: 0;padding: 0.3em;box-sizing: border-box;text-align: center;}#sk-container-id-1 label.sk-toggleable__label-arrow:before {content: \"▸\";float: left;margin-right: 0.25em;color: #696969;}#sk-container-id-1 label.sk-toggleable__label-arrow:hover:before {color: black;}#sk-container-id-1 div.sk-estimator:hover label.sk-toggleable__label-arrow:before {color: black;}#sk-container-id-1 div.sk-toggleable__content {max-height: 0;max-width: 0;overflow: hidden;text-align: left;background-color: #f0f8ff;}#sk-container-id-1 div.sk-toggleable__content pre {margin: 0.2em;color: black;border-radius: 0.25em;background-color: #f0f8ff;}#sk-container-id-1 input.sk-toggleable__control:checked~div.sk-toggleable__content {max-height: 200px;max-width: 100%;overflow: auto;}#sk-container-id-1 input.sk-toggleable__control:checked~label.sk-toggleable__label-arrow:before {content: \"▾\";}#sk-container-id-1 div.sk-estimator input.sk-toggleable__control:checked~label.sk-toggleable__label {background-color: #d4ebff;}#sk-container-id-1 div.sk-label input.sk-toggleable__control:checked~label.sk-toggleable__label {background-color: #d4ebff;}#sk-container-id-1 input.sk-hidden--visually {border: 0;clip: rect(1px 1px 1px 1px);clip: rect(1px, 1px, 1px, 1px);height: 1px;margin: -1px;overflow: hidden;padding: 0;position: absolute;width: 1px;}#sk-container-id-1 div.sk-estimator {font-family: monospace;background-color: #f0f8ff;border: 1px dotted black;border-radius: 0.25em;box-sizing: border-box;margin-bottom: 0.5em;}#sk-container-id-1 div.sk-estimator:hover {background-color: #d4ebff;}#sk-container-id-1 div.sk-parallel-item::after {content: \"\";width: 100%;border-bottom: 1px solid gray;flex-grow: 1;}#sk-container-id-1 div.sk-label:hover label.sk-toggleable__label {background-color: #d4ebff;}#sk-container-id-1 div.sk-serial::before {content: \"\";position: absolute;border-left: 1px solid gray;box-sizing: border-box;top: 0;bottom: 0;left: 50%;z-index: 0;}#sk-container-id-1 div.sk-serial {display: flex;flex-direction: column;align-items: center;background-color: white;padding-right: 0.2em;padding-left: 0.2em;position: relative;}#sk-container-id-1 div.sk-item {position: relative;z-index: 1;}#sk-container-id-1 div.sk-parallel {display: flex;align-items: stretch;justify-content: center;background-color: white;position: relative;}#sk-container-id-1 div.sk-item::before, #sk-container-id-1 div.sk-parallel-item::before {content: \"\";position: absolute;border-left: 1px solid gray;box-sizing: border-box;top: 0;bottom: 0;left: 50%;z-index: -1;}#sk-container-id-1 div.sk-parallel-item {display: flex;flex-direction: column;z-index: 1;position: relative;background-color: white;}#sk-container-id-1 div.sk-parallel-item:first-child::after {align-self: flex-end;width: 50%;}#sk-container-id-1 div.sk-parallel-item:last-child::after {align-self: flex-start;width: 50%;}#sk-container-id-1 div.sk-parallel-item:only-child::after {width: 0;}#sk-container-id-1 div.sk-dashed-wrapped {border: 1px dashed gray;margin: 0 0.4em 0.5em 0.4em;box-sizing: border-box;padding-bottom: 0.4em;background-color: white;}#sk-container-id-1 div.sk-label label {font-family: monospace;font-weight: bold;display: inline-block;line-height: 1.2em;}#sk-container-id-1 div.sk-label-container {text-align: center;}#sk-container-id-1 div.sk-container {/* jupyter's `normalize.less` sets `[hidden] { display: none; }` but bootstrap.min.css set `[hidden] { display: none !important; }` so we also need the `!important` here to be able to override the default hidden behavior on the sphinx rendered scikit-learn.org. See: https://github.com/scikit-learn/scikit-learn/issues/21755 */display: inline-block !important;position: relative;}#sk-container-id-1 div.sk-text-repr-fallback {display: none;}</style><div id=\"sk-container-id-1\" class=\"sk-top-container\"><div class=\"sk-text-repr-fallback\"><pre>XGBClassifier(alpha=1, base_score=None, booster=&#x27;dart&#x27;, callbacks=None,\n",
       "              colsample_bylevel=None, colsample_bynode=None,\n",
       "              colsample_bytree=0.5, device=None, early_stopping_rounds=None,\n",
       "              enable_categorical=False, eval_metric=None, feature_types=None,\n",
       "              gamma=None, grow_policy=None, importance_type=None,\n",
       "              interaction_constraints=None, learning_rate=None, max_bin=None,\n",
       "              max_cat_threshold=None, max_cat_to_onehot=None,\n",
       "              max_delta_step=None, max_depth=3, max_leaves=None,\n",
       "              min_child_weight=None, missing=nan, monotone_constraints=None,\n",
       "              multi_strategy=None, n_estimators=120, n_jobs=None,\n",
       "              num_parallel_tree=None, ...)</pre><b>In a Jupyter environment, please rerun this cell to show the HTML representation or trust the notebook. <br />On GitHub, the HTML representation is unable to render, please try loading this page with nbviewer.org.</b></div><div class=\"sk-container\" hidden><div class=\"sk-item\"><div class=\"sk-estimator sk-toggleable\"><input class=\"sk-toggleable__control sk-hidden--visually\" id=\"sk-estimator-id-1\" type=\"checkbox\" checked><label for=\"sk-estimator-id-1\" class=\"sk-toggleable__label sk-toggleable__label-arrow\">XGBClassifier</label><div class=\"sk-toggleable__content\"><pre>XGBClassifier(alpha=1, base_score=None, booster=&#x27;dart&#x27;, callbacks=None,\n",
       "              colsample_bylevel=None, colsample_bynode=None,\n",
       "              colsample_bytree=0.5, device=None, early_stopping_rounds=None,\n",
       "              enable_categorical=False, eval_metric=None, feature_types=None,\n",
       "              gamma=None, grow_policy=None, importance_type=None,\n",
       "              interaction_constraints=None, learning_rate=None, max_bin=None,\n",
       "              max_cat_threshold=None, max_cat_to_onehot=None,\n",
       "              max_delta_step=None, max_depth=3, max_leaves=None,\n",
       "              min_child_weight=None, missing=nan, monotone_constraints=None,\n",
       "              multi_strategy=None, n_estimators=120, n_jobs=None,\n",
       "              num_parallel_tree=None, ...)</pre></div></div></div></div></div>"
      ],
      "text/plain": [
       "XGBClassifier(alpha=1, base_score=None, booster='dart', callbacks=None,\n",
       "              colsample_bylevel=None, colsample_bynode=None,\n",
       "              colsample_bytree=0.5, device=None, early_stopping_rounds=None,\n",
       "              enable_categorical=False, eval_metric=None, feature_types=None,\n",
       "              gamma=None, grow_policy=None, importance_type=None,\n",
       "              interaction_constraints=None, learning_rate=None, max_bin=None,\n",
       "              max_cat_threshold=None, max_cat_to_onehot=None,\n",
       "              max_delta_step=None, max_depth=3, max_leaves=None,\n",
       "              min_child_weight=None, missing=nan, monotone_constraints=None,\n",
       "              multi_strategy=None, n_estimators=120, n_jobs=None,\n",
       "              num_parallel_tree=None, ...)"
      ]
     },
     "execution_count": 43,
     "metadata": {},
     "output_type": "execute_result"
    }
   ],
   "source": [
    "final_model"
   ]
  },
  {
   "cell_type": "code",
   "execution_count": 44,
   "id": "eabda36e-5331-496b-bedc-c57de00af012",
   "metadata": {},
   "outputs": [
    {
     "data": {
      "text/plain": [
       "0.9313218390804597"
      ]
     },
     "execution_count": 44,
     "metadata": {},
     "output_type": "execute_result"
    }
   ],
   "source": [
    "final_model.score(X_test,y_test)"
   ]
  },
  {
   "cell_type": "code",
   "execution_count": 45,
   "id": "ea82df8b-6229-4931-bfff-d2f91f38e806",
   "metadata": {},
   "outputs": [
    {
     "data": {
      "text/plain": [
       "0.9477011494252874"
      ]
     },
     "execution_count": 45,
     "metadata": {},
     "output_type": "execute_result"
    }
   ],
   "source": [
    "final_model.score(X_train, y_train)"
   ]
  },
  {
   "cell_type": "code",
   "execution_count": 46,
   "id": "4923f807-07f4-4f7e-9801-d068c4d7f87c",
   "metadata": {},
   "outputs": [],
   "source": [
    "y_proba = final_model.predict_proba(X_test)\n",
    "y_pred = final_model.predict(X_test)"
   ]
  },
  {
   "cell_type": "code",
   "execution_count": 47,
   "id": "5d524718-297a-490f-92ff-9a3d2bcfb7ef",
   "metadata": {},
   "outputs": [
    {
     "name": "stdout",
     "output_type": "stream",
     "text": [
      "Macro Precision: 0.93\n",
      "Macro Recall: 0.93\n",
      "Macro F1-score: 0.93\n",
      "\n"
     ]
    }
   ],
   "source": [
    "print('Macro Precision: {:.2f}'.format(precision_score(y_test, y_pred, average='macro')))\n",
    "print('Macro Recall: {:.2f}'.format(recall_score(y_test, y_pred, average='macro')))\n",
    "print('Macro F1-score: {:.2f}\\n'.format(f1_score(y_test, y_pred, average='macro')))"
   ]
  },
  {
   "cell_type": "code",
   "execution_count": 48,
   "id": "e6e26279-e0c0-46f7-97a7-6a679755b857",
   "metadata": {},
   "outputs": [
    {
     "name": "stdout",
     "output_type": "stream",
     "text": [
      "Weighted Precision: 0.94\n",
      "Weighted Recall: 0.93\n",
      "Weighted F1-score: 0.93\n"
     ]
    }
   ],
   "source": [
    "print('Weighted Precision: {:.2f}'.format(precision_score(y_test, y_pred, average='weighted')))\n",
    "print('Weighted Recall: {:.2f}'.format(recall_score(y_test, y_pred, average='weighted')))\n",
    "print('Weighted F1-score: {:.2f}'.format(f1_score(y_test, y_pred, average='weighted')))\n"
   ]
  },
  {
   "cell_type": "code",
   "execution_count": 49,
   "id": "9fb5ff8e-8558-4d6a-ab83-63c1ee4ac951",
   "metadata": {},
   "outputs": [],
   "source": [
    "# Creating  a confusion matrix,which compares the y_test and y_pred\n",
    "cm = confusion_matrix(y_test, y_pred)\n",
    "# Creating a dataframe for a array-formatted Confusion matrix,so it will be easy for plotting.\n",
    "cm_df = pd.DataFrame(cm,\n",
    "                     index = [0,1,2,3], \n",
    "                     columns = [0,1,2,3])"
   ]
  },
  {
   "cell_type": "code",
   "execution_count": 50,
   "id": "660d7cd9-5fe3-461d-8793-911bc061ab57",
   "metadata": {},
   "outputs": [
    {
     "data": {
      "image/png": "[encoded data removed]",
      "text/plain": [
       "<Figure size 1000x800 with 2 Axes>"
      ]
     },
     "metadata": {},
     "output_type": "display_data"
    }
   ],
   "source": [
    "#Plotting the confusion matrix\n",
    "plt.figure(figsize=(10,8))\n",
    "sns.heatmap(cm_df, annot=True)\n",
    "plt.title('Confusion Matrix')\n",
    "plt.ylabel('Actual Values')\n",
    "plt.xlabel('Predicted Values')\n",
    "plt.show()\n"
   ]
  },
  {
   "cell_type": "code",
   "execution_count": 51,
   "id": "8fb335b3-36a1-419e-8b68-74812757baba",
   "metadata": {},
   "outputs": [
    {
     "name": "stdout",
     "output_type": "stream",
     "text": [
      "\n",
      "Classification Report\n",
      "\n",
      "              precision    recall  f1-score   support\n",
      "\n",
      "     Class 0       0.81      0.94      0.87       844\n",
      "     Class 1       0.93      0.80      0.86       904\n",
      "     Class 2       0.99      1.00      1.00       869\n",
      "     Class 3       1.00      1.00      1.00       863\n",
      "\n",
      "    accuracy                           0.93      3480\n",
      "   macro avg       0.93      0.93      0.93      3480\n",
      "weighted avg       0.94      0.93      0.93      3480\n",
      "\n"
     ]
    }
   ],
   "source": [
    "print('\\nClassification Report\\n')\n",
    "print(classification_report(y_test, y_pred, target_names=['Class 0', 'Class 1', 'Class 2', 'Class 3']))"
   ]
  },
  {
   "cell_type": "code",
   "execution_count": 55,
   "id": "ae62014e-583b-4f94-b3e9-afb6271d511d",
   "metadata": {},
   "outputs": [],
   "source": [
    "from sklearn.metrics import auc"
   ]
  },
  {
   "cell_type": "code",
   "execution_count": 76,
   "id": "fd9853c1-468e-4a81-85f2-985f82c89d10",
   "metadata": {},
   "outputs": [
    {
     "data": {
      "image/svg+xml": [
       "<svg class=\"main-svg\" xmlns=\"http://www.w3.org/2000/svg\" xmlns:xlink=\"http://www.w3.org/1999/xlink\" width=\"800\" height=\"600\" style=\"\" viewBox=\"0 0 800 600\"><rect x=\"0\" y=\"0\" width=\"800\" height=\"600\" style=\"fill: rgb(255, 255, 255); fill-opacity: 1;\"/><defs id=\"defs-a8eeab\"><g class=\"clips\"><clipPath id=\"clipa8eeabxyplot\" class=\"plotclip\"><rect width=\"379.9999999999998\" height=\"420\"/></clipPath><clipPath class=\"axesclip\" id=\"clipa8eeabx\"><rect x=\"165.50000000000009\" y=\"0\" width=\"379.9999999999998\" height=\"600\"/></clipPath><clipPath class=\"axesclip\" id=\"clipa8eeaby\"><rect x=\"0\" y=\"100\" width=\"800\" height=\"420\"/></clipPath><clipPath class=\"axesclip\" id=\"clipa8eeabxy\"><rect x=\"165.50000000000009\" y=\"100\" width=\"379.9999999999998\" height=\"420\"/></clipPath></g><g class=\"gradients\"/><g class=\"patterns\"/></defs><g class=\"bglayer\"><rect class=\"bg\" x=\"165.50000000000009\" y=\"100\" width=\"379.9999999999998\" height=\"420\" style=\"fill: rgb(229, 236, 246); fill-opacity: 1; stroke-width: 0;\"/></g><g class=\"layer-below\"><g class=\"imagelayer\"/><g class=\"shapelayer\"/></g><g class=\"cartesianlayer\"><g class=\"subplot xy\"><g class=\"layer-subplot\"><g class=\"shapelayer\"/><g class=\"imagelayer\"/></g><g class=\"minor-gridlayer\"><g class=\"x\"/><g class=\"y\"/></g><g class=\"gridlayer\"><g class=\"x\"><path class=\"xgrid crisp\" transform=\"translate(242.10000000000008,0)\" d=\"M0,100v420\" style=\"stroke: rgb(255, 255, 255); stroke-opacity: 1; stroke-width: 1px;\"/><path class=\"xgrid crisp\" transform=\"translate(317.70000000000005,0)\" d=\"M0,100v420\" style=\"stroke: rgb(255, 255, 255); stroke-opacity: 1; stroke-width: 1px;\"/><path class=\"xgrid crisp\" transform=\"translate(393.30000000000007,0)\" d=\"M0,100v420\" style=\"stroke: rgb(255, 255, 255); stroke-opacity: 1; stroke-width: 1px;\"/><path class=\"xgrid crisp\" transform=\"translate(468.9000000000001,0)\" d=\"M0,100v420\" style=\"stroke: rgb(255, 255, 255); stroke-opacity: 1; stroke-width: 1px;\"/></g><g class=\"y\"><path class=\"ygrid crisp\" transform=\"translate(0,423.4)\" d=\"M165.50000000000009,0h379.9999999999998\" style=\"stroke: rgb(255, 255, 255); stroke-opacity: 1; stroke-width: 1px;\"/><path class=\"ygrid crisp\" transform=\"translate(0,347.8)\" d=\"M165.50000000000009,0h379.9999999999998\" style=\"stroke: rgb(255, 255, 255); stroke-opacity: 1; stroke-width: 1px;\"/><path class=\"ygrid crisp\" transform=\"translate(0,272.2)\" d=\"M165.50000000000009,0h379.9999999999998\" style=\"stroke: rgb(255, 255, 255); stroke-opacity: 1; stroke-width: 1px;\"/><path class=\"ygrid crisp\" transform=\"translate(0,196.6)\" d=\"M165.50000000000009,0h379.9999999999998\" style=\"stroke: rgb(255, 255, 255); stroke-opacity: 1; stroke-width: 1px;\"/><path class=\"ygrid crisp\" transform=\"translate(0,121)\" d=\"M165.50000000000009,0h379.9999999999998\" style=\"stroke: rgb(255, 255, 255); stroke-opacity: 1; stroke-width: 1px;\"/></g></g><g class=\"zerolinelayer\"><path class=\"xzl zl crisp\" transform=\"translate(166.50000000000009,0)\" d=\"M0,100v420\" style=\"stroke: rgb(255, 255, 255); stroke-opacity: 1; stroke-width: 2px;\"/><path class=\"yzl zl crisp\" transform=\"translate(0,499)\" d=\"M165.50000000000009,0h379.9999999999998\" style=\"stroke: rgb(255, 255, 255); stroke-opacity: 1; stroke-width: 2px;\"/></g><path class=\"xlines-below\"/><path class=\"ylines-below\"/><g class=\"overlines-below\"/><g class=\"xaxislayer-below\"/><g class=\"yaxislayer-below\"/><g class=\"overaxes-below\"/><g class=\"plot\" transform=\"translate(165.50000000000009,100)\" clip-path=\"url(#clipa8eeabxyplot)\"><g class=\"scatterlayer mlayer\"><g class=\"trace scatter trace225c6c\" style=\"stroke-miterlimit: 2; opacity: 1;\"><g class=\"fills\"/><g class=\"errorbars\"/><g class=\"lines\"><path class=\"js-line\" d=\"M1,399L1.72,356.45L1.86,356.45L2.58,321.07L3.15,321.07L3.44,317.49L4.01,317.49L4.73,278.52L4.87,278.52L5.59,251.65L5.73,251.65L6.45,232.84L6.59,232.84L7.31,204.63L7.45,204.63L8.17,198.36L8.74,198.36L9.32,185.82L9.75,185.82L10.18,161.63L10.61,161.63L11.04,141.03L11.61,141.03L12.33,128.94L12.47,128.94L13.19,117.29L13.62,117.29L14.05,113.71L14.91,113.71L15.2,101.62L15.77,101.62L16.49,87.28L16.77,87.28L17.49,78.77L17.63,78.77L18.21,75.64L18.64,75.64L18.64,74.3L19.79,74.3L20.5,63.55L21.65,63.55L21.94,63.55L21.94,62.65L22.37,62.65L22.37,60.41L22.94,60.41L22.94,58.17L23.8,55.93L24.23,55.93L24.8,53.25L25.09,53.25L25.81,47.87L25.95,47.87L25.95,45.18L26.96,45.18L27.1,40.71L27.82,40.71L27.82,39.81L29.25,39.81L29.54,33.09L30.25,33.09L30.68,27.72L32.12,27.72L32.12,25.48L33.12,25.48L33.12,24.58L36.56,24.58L36.56,23.69L39.29,23.69L40.72,23.69L40.72,21L379,21\" style=\"vector-effect: none; fill: none; stroke: rgb(99, 110, 250); stroke-opacity: 1; stroke-width: 2px; opacity: 1;\"/></g><g class=\"points\"/><g class=\"text\"/></g><g class=\"trace scatter trace40922d\" style=\"stroke-miterlimit: 2; opacity: 1;\"><g class=\"fills\"/><g class=\"errorbars\"/><g class=\"lines\"><path class=\"js-line\" d=\"M1,399L1,141.42L1.88,141.42L2.47,114.66L3.2,114.66L3.2,110.48L4.37,110.48L4.96,106.72L5.26,106.72L5.26,105.88L5.7,105.88L6.28,105.88L6.28,105.46L7.16,105.46L7.46,99.61L8.34,99.61L8.92,97.1L9.8,97.1L10.39,95.01L10.98,95.01L11.57,93.34L12.15,93.34L12.74,87.48L13.18,87.48L13.91,87.48L13.91,84.14L14.21,81.63L14.94,81.63L15.67,78.29L16.41,78.29L16.41,77.87L17.14,77.87L18.02,77.87L18.46,77.87L18.46,74.52L19.49,74.1L19.49,71.18L20.52,70.76L20.52,69.92L21.98,69.5L21.98,68.67L23.74,68.67L23.74,67.83L25.07,67.41L25.07,67L25.36,67L25.36,66.16L27.41,66.16L27.41,64.07L30.93,64.07L30.93,61.98L31.82,61.98L31.82,59.89L32.11,59.89L32.11,58.63L33.14,58.63L33.14,57.38L35.04,56.96L35.04,56.54L36.36,56.54L36.36,55.71L38.27,55.71L38.27,54.87L38.86,54.87L38.86,54.03L40.33,54.03L40.33,53.2L41.35,53.2L41.35,52.36L44.87,51.94L44.87,51.52L47.08,51.11L47.08,50.27L52.65,49.85L52.65,49.43L53.83,49.43L53.83,47.34L55.29,46.92L55.29,46.51L56.03,46.51L56.03,45.67L57.93,45.67L57.93,44L58.82,44L58.82,42.74L59.99,42.74L59.99,41.91L60.43,41.91L60.43,40.65L64.83,40.23L64.83,39.82L68.21,39.4L68.21,38.98L71.43,38.56L71.43,38.14L72.61,37.73L72.61,36.89L75.4,36.47L75.4,36.05L81.41,35.63L81.41,35.22L82.29,35.22L82.29,33.96L84.79,33.54L84.79,33.13L90.51,33.13L90.51,32.29L93.01,32.29L93.01,31.45L97.41,31.45L97.41,30.2L98.58,30.2L98.58,29.36L99.32,29.36L99.32,27.69L102.98,27.27L102.98,26.85L106.8,26.44L106.8,25.18L111.64,24.76L111.64,23.93L122.35,23.93L122.35,23.09L128.52,22.67L128.52,22.25L140.99,21.84L140.99,21.42L379,21\" style=\"vector-effect: none; fill: none; stroke: rgb(239, 85, 59); stroke-opacity: 1; stroke-width: 2px; opacity: 1;\"/></g><g class=\"points\"/><g class=\"text\"/></g><g class=\"trace scatter trace878392\" style=\"stroke-miterlimit: 2; opacity: 1;\"><g class=\"fills\"/><g class=\"errorbars\"/><g class=\"lines\"><path class=\"js-line\" d=\"M1,399L1.58,21L2.3,21L379,21\" style=\"vector-effect: none; fill: none; stroke: rgb(0, 204, 150); stroke-opacity: 1; stroke-width: 2px; opacity: 1;\"/></g><g class=\"points\"/><g class=\"text\"/></g><g class=\"trace scatter trace1fdb9f\" style=\"stroke-miterlimit: 2; opacity: 1;\"><g class=\"fills\"/><g class=\"errorbars\"/><g class=\"lines\"><path class=\"js-line\" d=\"M1,399L1,21L1.29,21L2.3,21L379,21\" style=\"vector-effect: none; fill: none; stroke: rgb(171, 99, 250); stroke-opacity: 1; stroke-width: 2px; opacity: 1;\"/></g><g class=\"points\"/><g class=\"text\"/></g></g></g><g class=\"overplot\"/><path class=\"xlines-above crisp\" d=\"M0,0\" style=\"fill: none;\"/><path class=\"ylines-above crisp\" d=\"M0,0\" style=\"fill: none;\"/><g class=\"overlines-above\"/><g class=\"xaxislayer-above\"><g class=\"xtick\"><text text-anchor=\"middle\" x=\"0\" y=\"533\" transform=\"translate(166.50000000000009,0)\" style=\"font-family: 'Open Sans', verdana, arial, sans-serif; font-size: 12px; fill: rgb(42, 63, 95); fill-opacity: 1; white-space: pre; opacity: 1;\">0</text></g><g class=\"xtick\"><text text-anchor=\"middle\" x=\"0\" y=\"533\" style=\"font-family: 'Open Sans', verdana, arial, sans-serif; font-size: 12px; fill: rgb(42, 63, 95); fill-opacity: 1; white-space: pre; opacity: 1;\" transform=\"translate(242.10000000000008,0)\">0.2</text></g><g class=\"xtick\"><text text-anchor=\"middle\" x=\"0\" y=\"533\" style=\"font-family: 'Open Sans', verdana, arial, sans-serif; font-size: 12px; fill: rgb(42, 63, 95); fill-opacity: 1; white-space: pre; opacity: 1;\" transform=\"translate(317.70000000000005,0)\">0.4</text></g><g class=\"xtick\"><text text-anchor=\"middle\" x=\"0\" y=\"533\" style=\"font-family: 'Open Sans', verdana, arial, sans-serif; font-size: 12px; fill: rgb(42, 63, 95); fill-opacity: 1; white-space: pre; opacity: 1;\" transform=\"translate(393.30000000000007,0)\">0.6</text></g><g class=\"xtick\"><text text-anchor=\"middle\" x=\"0\" y=\"533\" style=\"font-family: 'Open Sans', verdana, arial, sans-serif; font-size: 12px; fill: rgb(42, 63, 95); fill-opacity: 1; white-space: pre; opacity: 1;\" transform=\"translate(468.9000000000001,0)\">0.8</text></g><g class=\"xtick\"><text text-anchor=\"middle\" x=\"0\" y=\"533\" style=\"font-family: 'Open Sans', verdana, arial, sans-serif; font-size: 12px; fill: rgb(42, 63, 95); fill-opacity: 1; white-space: pre; opacity: 1;\" transform=\"translate(544.5000000000001,0)\">1</text></g></g><g class=\"yaxislayer-above\"><g class=\"ytick\"><text text-anchor=\"end\" x=\"164.50000000000009\" y=\"4.199999999999999\" transform=\"translate(0,499)\" style=\"font-family: 'Open Sans', verdana, arial, sans-serif; font-size: 12px; fill: rgb(42, 63, 95); fill-opacity: 1; white-space: pre; opacity: 1;\">0</text></g><g class=\"ytick\"><text text-anchor=\"end\" x=\"164.50000000000009\" y=\"4.199999999999999\" style=\"font-family: 'Open Sans', verdana, arial, sans-serif; font-size: 12px; fill: rgb(42, 63, 95); fill-opacity: 1; white-space: pre; opacity: 1;\" transform=\"translate(0,423.4)\">0.2</text></g><g class=\"ytick\"><text text-anchor=\"end\" x=\"164.50000000000009\" y=\"4.199999999999999\" style=\"font-family: 'Open Sans', verdana, arial, sans-serif; font-size: 12px; fill: rgb(42, 63, 95); fill-opacity: 1; white-space: pre; opacity: 1;\" transform=\"translate(0,347.8)\">0.4</text></g><g class=\"ytick\"><text text-anchor=\"end\" x=\"164.50000000000009\" y=\"4.199999999999999\" style=\"font-family: 'Open Sans', verdana, arial, sans-serif; font-size: 12px; fill: rgb(42, 63, 95); fill-opacity: 1; white-space: pre; opacity: 1;\" transform=\"translate(0,272.2)\">0.6</text></g><g class=\"ytick\"><text text-anchor=\"end\" x=\"164.50000000000009\" y=\"4.199999999999999\" style=\"font-family: 'Open Sans', verdana, arial, sans-serif; font-size: 12px; fill: rgb(42, 63, 95); fill-opacity: 1; white-space: pre; opacity: 1;\" transform=\"translate(0,196.6)\">0.8</text></g><g class=\"ytick\"><text text-anchor=\"end\" x=\"164.50000000000009\" y=\"4.199999999999999\" style=\"font-family: 'Open Sans', verdana, arial, sans-serif; font-size: 12px; fill: rgb(42, 63, 95); fill-opacity: 1; white-space: pre; opacity: 1;\" transform=\"translate(0,121)\">1</text></g></g><g class=\"overaxes-above\"/></g></g><g class=\"polarlayer\"/><g class=\"smithlayer\"/><g class=\"ternarylayer\"/><g class=\"geolayer\"/><g class=\"funnelarealayer\"/><g class=\"pielayer\"/><g class=\"iciclelayer\"/><g class=\"treemaplayer\"/><g class=\"sunburstlayer\"/><g class=\"glimages\"/><defs id=\"topdefs-a8eeab\"><g class=\"clips\"/><clipPath id=\"legenda8eeab\"><rect width=\"146\" height=\"86\" x=\"0\" y=\"0\"/></clipPath></defs><g class=\"layer-above\"><g class=\"imagelayer\"/><g class=\"shapelayer\"><g class=\"shape-group\" data-index=\"0\" clip-path=\"url(#clipa8eeabxy)\"><path data-index=\"0\" fill-rule=\"evenodd\" d=\"M166.50000000000009,499L544.5000000000001,121\" style=\"opacity: 1; stroke: rgb(42, 63, 95); stroke-opacity: 1; fill: rgb(0, 0, 0); fill-opacity: 0; stroke-dasharray: 9px, 9px; stroke-width: 2px;\"/></g></g></g><g class=\"infolayer\"><g class=\"legend\" pointer-events=\"all\" transform=\"translate(642.02,100)\"><rect class=\"bg\" shape-rendering=\"crispEdges\" width=\"146\" height=\"86\" x=\"0\" y=\"0\" style=\"stroke: rgb(68, 68, 68); stroke-opacity: 1; fill: rgb(255, 255, 255); fill-opacity: 1; stroke-width: 0px;\"/><g class=\"scrollbox\" transform=\"\" clip-path=\"url(#legenda8eeab)\"><g class=\"groups\"><g class=\"traces\" transform=\"translate(0,14.5)\" style=\"opacity: 1;\"><text class=\"legendtext\" text-anchor=\"start\" x=\"40\" y=\"4.680000000000001\" style=\"font-family: 'Open Sans', verdana, arial, sans-serif; font-size: 12px; fill: rgb(42, 63, 95); fill-opacity: 1; white-space: pre;\">0 (AUC=0.9761)</text><g class=\"layers\" style=\"opacity: 1;\"><g class=\"legendfill\"/><g class=\"legendlines\"><path class=\"js-line\" d=\"M5,0h30\" style=\"fill: none; stroke: rgb(99, 110, 250); stroke-opacity: 1; stroke-width: 2px;\"/></g><g class=\"legendsymbols\"><g class=\"legendpoints\"/></g></g><rect class=\"legendtoggle\" x=\"0\" y=\"-9.5\" width=\"140.390625\" height=\"19\" style=\"fill: rgb(0, 0, 0); fill-opacity: 0;\"/></g><g class=\"traces\" transform=\"translate(0,33.5)\" style=\"opacity: 1;\"><text class=\"legendtext\" text-anchor=\"start\" x=\"40\" y=\"4.680000000000001\" style=\"font-family: 'Open Sans', verdana, arial, sans-serif; font-size: 12px; fill: rgb(42, 63, 95); fill-opacity: 1; white-space: pre;\">1 (AUC=0.9754)</text><g class=\"layers\" style=\"opacity: 1;\"><g class=\"legendfill\"/><g class=\"legendlines\"><path class=\"js-line\" d=\"M5,0h30\" style=\"fill: none; stroke: rgb(239, 85, 59); stroke-opacity: 1; stroke-width: 2px;\"/></g><g class=\"legendsymbols\"><g class=\"legendpoints\"/></g></g><rect class=\"legendtoggle\" x=\"0\" y=\"-9.5\" width=\"140.390625\" height=\"19\" style=\"fill: rgb(0, 0, 0); fill-opacity: 0;\"/></g><g class=\"traces\" transform=\"translate(0,52.5)\" style=\"opacity: 1;\"><text class=\"legendtext\" text-anchor=\"start\" x=\"40\" y=\"4.680000000000001\" style=\"font-family: 'Open Sans', verdana, arial, sans-serif; font-size: 12px; fill: rgb(42, 63, 95); fill-opacity: 1; white-space: pre;\">2 (AUC=0.9998)</text><g class=\"layers\" style=\"opacity: 1;\"><g class=\"legendfill\"/><g class=\"legendlines\"><path class=\"js-line\" d=\"M5,0h30\" style=\"fill: none; stroke: rgb(0, 204, 150); stroke-opacity: 1; stroke-width: 2px;\"/></g><g class=\"legendsymbols\"><g class=\"legendpoints\"/></g></g><rect class=\"legendtoggle\" x=\"0\" y=\"-9.5\" width=\"140.390625\" height=\"19\" style=\"fill: rgb(0, 0, 0); fill-opacity: 0;\"/></g><g class=\"traces\" transform=\"translate(0,71.5)\" style=\"opacity: 1;\"><text class=\"legendtext\" text-anchor=\"start\" x=\"40\" y=\"4.680000000000001\" style=\"font-family: 'Open Sans', verdana, arial, sans-serif; font-size: 12px; fill: rgb(42, 63, 95); fill-opacity: 1; white-space: pre;\">3 (AUC=1.0000)</text><g class=\"layers\" style=\"opacity: 1;\"><g class=\"legendfill\"/><g class=\"legendlines\"><path class=\"js-line\" d=\"M5,0h30\" style=\"fill: none; stroke: rgb(171, 99, 250); stroke-opacity: 1; stroke-width: 2px;\"/></g><g class=\"legendsymbols\"><g class=\"legendpoints\"/></g></g><rect class=\"legendtoggle\" x=\"0\" y=\"-9.5\" width=\"140.390625\" height=\"19\" style=\"fill: rgb(0, 0, 0); fill-opacity: 0;\"/></g></g></g><rect class=\"scrollbar\" rx=\"20\" ry=\"3\" width=\"0\" height=\"0\" x=\"0\" y=\"0\" style=\"fill: rgb(128, 139, 164); fill-opacity: 1;\"/></g><g class=\"g-gtitle\"/><g class=\"g-xtitle\"><text class=\"xtitle\" x=\"355.5\" y=\"560.3\" text-anchor=\"middle\" style=\"font-family: 'Open Sans', verdana, arial, sans-serif; font-size: 14px; fill: rgb(42, 63, 95); opacity: 1; font-weight: normal; white-space: pre;\">False Positive Rate</text></g><g class=\"g-ytitle\"><text class=\"ytitle\" transform=\"rotate(-90,120.575,310)\" x=\"120.575\" y=\"310\" text-anchor=\"middle\" style=\"font-family: 'Open Sans', verdana, arial, sans-serif; font-size: 14px; fill: rgb(42, 63, 95); opacity: 1; font-weight: normal; white-space: pre;\">True Positive Rate</text></g></g></svg>"
      ]
     },
     "metadata": {},
     "output_type": "display_data"
    }
   ],
   "source": [
    "import plotly.graph_objects as go\n",
    "\n",
    "classes = final_model.classes_\n",
    "roc_auc_ovr = {}\n",
    "# Create an empty figure, and iteratively add new lines\n",
    "# every time we compute a new class\n",
    "fig = go.Figure()\n",
    "fig.add_shape(\n",
    "    type='line', line=dict(dash='dash'),\n",
    "    x0=0, x1=1, y0=0, y1=1\n",
    ")\n",
    "\n",
    "for i in range(len(classes)):\n",
    "    # Gets the class\n",
    "    c = classes[i]\n",
    "    # Prepares an auxiliar dataframe to help with the plots\n",
    "    df_aux = pd.DataFrame(X_test.copy(), columns= ['x', 'y'])\n",
    "    df_aux['Class'] = [1 if y == c else 0 for y in y_test]\n",
    "    df_aux['prob'] = y_proba[:, i]\n",
    "    df_aux = df_aux.reset_index(drop = True)\n",
    "\n",
    "    fpr, tpr, _ = roc_curve(df_aux['Class'], df_aux['prob'])\n",
    "    roc_auc_ovr[c] = auc(fpr, tpr)\n",
    "\n",
    "    name = f\"{c} (AUC={roc_auc_ovr[c]:.4f})\"\n",
    "    fig.add_trace(go.Scatter(x=fpr, y=tpr, name=name, mode='lines'))\n",
    "\n",
    "fig.update_layout(\n",
    "    xaxis_title='False Positive Rate',\n",
    "    yaxis_title='True Positive Rate',\n",
    "    yaxis=dict(scaleanchor=\"x\", scaleratio=1),\n",
    "    xaxis=dict(constrain='domain'),\n",
    "    width=800, height=600,\n",
    "    showlegend=True)\n",
    "fig.show(\"svg\")"
   ]
  },
  {
   "cell_type": "code",
   "execution_count": 53,
   "id": "627c9a9e-3018-4294-b831-d11a7cf33689",
   "metadata": {},
   "outputs": [],
   "source": [
    "from sklearn.metrics import roc_auc_score"
   ]
  },
  {
   "cell_type": "code",
   "execution_count": 58,
   "id": "486fe796-2000-44b7-a801-496c0ac78849",
   "metadata": {},
   "outputs": [],
   "source": [
    "# Save the model to a file\n",
    "with open('final_model.pkl', 'wb') as file:\n",
    "    pickle.dump(final_model, file)"
   ]
  },
  {
   "cell_type": "code",
   "execution_count": 59,
   "id": "e2bcc2e1-0b96-497a-b4b3-244bb52dfcda",
   "metadata": {},
   "outputs": [
    {
     "data": {
      "text/plain": [
       "array([[ 42.,   1.,   0.,   0.,   1.,   0.,   3.,  23.,  58.],\n",
       "       [ 69.,   0.,   0.,   0.,   1.,   0.,   2., 112.,  94.],\n",
       "       [ 55.,   1.,   0.,   0.,   0.,   0.,   3.,  61.,  78.],\n",
       "       [ 38.,   0.,   0.,   0.,   0.,   0.,   3.,  99., 113.],\n",
       "       [ 47.,   0.,   0.,   0.,   0.,   0.,   2.,  49.,  55.],\n",
       "       [ 45.,   1.,   0.,   0.,   0.,   0.,   2.,  87., 131.],\n",
       "       [  3.,   0.,   0.,   0.,   0.,   0.,   3., 112., 137.],\n",
       "       [ 47.,   0.,   0.,   0.,   0.,   0.,   2.,  49.,  55.],\n",
       "       [ 62.,   1.,   0.,   0.,   0.,   0.,   2.,  84., 102.],\n",
       "       [ 42.,   1.,   0.,   0.,   1.,   0.,   3.,  23.,  58.]])"
      ]
     },
     "execution_count": 59,
     "metadata": {},
     "output_type": "execute_result"
    }
   ],
   "source": [
    "np.array(X_test.head(10))"
   ]
  },
  {
   "cell_type": "code",
   "execution_count": 70,
   "id": "5156d0cc-f790-4e5f-a89e-53b2318325c1",
   "metadata": {},
   "outputs": [
    {
     "name": "stdout",
     "output_type": "stream",
     "text": [
      "predictions of the best model is: [3 0 0 0 3 0 2 3 0 3]\n"
     ]
    }
   ],
   "source": [
    "predictions = final_model.predict([[ 42.,   1.,   0.,   0.,   1.,   0.,   3.,  23.,  58.],\n",
    "       [ 69.,   0.,   0.,   0.,   1.,   0.,   2., 112.,  94.],\n",
    "       [ 55.,   1.,   0.,   0.,   0.,   0.,   3.,  61.,  78.],\n",
    "       [ 38.,   0.,   0.,   0.,   0.,   0.,   3.,  99., 113.],\n",
    "       [ 47.,   0.,   0.,   0.,   0.,   0.,   2.,  49.,  55.],\n",
    "       [ 45.,   1.,   0.,   0.,   0.,   0.,   2.,  87., 131.],\n",
    "       [  3.,   0.,   0.,   0.,   0.,   0.,   3., 112., 137.],\n",
    "       [ 47.,   0.,   0.,   0.,   0.,   0.,   2.,  49.,  55.],\n",
    "       [ 62.,   1.,   0.,   0.,   0.,   0.,   2.,  84., 102.],\n",
    "       [ 42.,   1.,   0.,   0.,   1.,   0.,   3.,  23.,  58.]])\n",
    "print(f\"predictions of the best model is: {predictions}\")"
   ]
  },
  {
   "cell_type": "code",
   "execution_count": 67,
   "id": "bcc7826c-0d90-4619-8793-84c3be8873fa",
   "metadata": {},
   "outputs": [
    {
     "data": {
      "text/plain": [
       "13614    3\n",
       "6345     0\n",
       "4926     0\n",
       "4838     0\n",
       "10847    3\n",
       "6185     0\n",
       "1686     2\n",
       "10727    3\n",
       "3797     0\n",
       "11971    3\n",
       "Name: Class, dtype: int64"
      ]
     },
     "execution_count": 67,
     "metadata": {},
     "output_type": "execute_result"
    }
   ],
   "source": [
    "y_test.head(10)"
   ]
  },
  {
   "cell_type": "code",
   "execution_count": 74,
   "id": "33a028ee-3ea1-4003-895c-9921042ac62e",
   "metadata": {},
   "outputs": [
    {
     "name": "stdin",
     "output_type": "stream",
     "text": [
      "Give health parameters of the person:  62.,   1.,   0.,   0.,   0.,   0.,   2.,  84., 102.\n"
     ]
    },
    {
     "name": "stdout",
     "output_type": "stream",
     "text": [
      "[0]\n",
      "compensated_hypothyroid\n"
     ]
    }
   ],
   "source": [
    "input_data = eval(input('Give health parameters of the person: '))\n",
    "\n",
    "#changing the input data to numpy_array\n",
    "input_data_as_numpy_array = np.asarray(input_data)\n",
    "\n",
    "#reshape the array as we are predicting for one instance\n",
    "input_data_reshaped = input_data_as_numpy_array.reshape(1,-1)\n",
    "\n",
    "#predicting the condition of patient\n",
    "prediction = final_model.predict(input_data_reshaped)\n",
    "print(prediction)\n",
    "\n",
    "if (prediction == 0):\n",
    "    print('compensated_hypothyroid')\n",
    "\n",
    "elif (prediction == 1):\n",
    "    print('negative')\n",
    "\n",
    "elif (prediction == 2):\n",
    "    print('primary_hypothyroid')\n",
    "\n",
    "else:\n",
    "    print('secondary_hypothyroid')"
   ]
  },
  {
   "cell_type": "code",
   "execution_count": 73,
   "id": "8aeabd81-7b9d-423a-8055-1f10898e15bf",
   "metadata": {},
   "outputs": [],
   "source": [
    "# while True:\n",
    "\n",
    "#     input_data = eval(input('Give health parameters of the person: '))\n",
    "    \n",
    "#     #changing the input data to numpy_array\n",
    "#     input_data_as_numpy_array = np.asarray(input_data)\n",
    "    \n",
    "#     #reshape the array as we are predicting for one instance\n",
    "#     input_data_reshaped = input_data_as_numpy_array.reshape(1,-1)\n",
    "    \n",
    "#     #predicting the condition of patient\n",
    "#     prediction = final_model.predict(input_data_reshaped)\n",
    "#     print(prediction)\n",
    "    \n",
    "#     if (prediction == 0):\n",
    "#         print('compensated_hypothyroid')\n",
    "    \n",
    "#     elif (prediction == 1):\n",
    "#         print('negative')\n",
    "    \n",
    "#     elif (prediction == 2):\n",
    "#         print('primary_hypothyroid')\n",
    "    \n",
    "#     else:\n",
    "#         print('secondary_hypothyroid')"
   ]
  },
  {
   "cell_type": "code",
   "execution_count": null,
   "id": "b77ed640-8f19-408d-89b6-0062152326fc",
   "metadata": {},
   "outputs": [],
   "source": []
  }
 ],
 "metadata": {
  "kernelspec": {
   "display_name": "Python 3 (ipykernel)",
   "language": "python",
   "name": "python3"
  },
  "language_info": {
   "codemirror_mode": {
    "name": "ipython",
    "version": 3
   },
   "file_extension": ".py",
   "mimetype": "text/x-python",
   "name": "python",
   "nbconvert_exporter": "python",
   "pygments_lexer": "ipython3",
   "version": "3.11.8"
  }
 },
 "nbformat": 4,
 "nbformat_minor": 5
}
